{
  "cells": [
    {
      "cell_type": "markdown",
      "metadata": {
        "id": "56wIrIHaAD6t"
      },
      "source": [
        "<font color=\"green\">*To start working on this notebook, or any other notebook that we will use in this course, we will need to save our own copy of it. We can do this by clicking File > Save a Copy in Drive. We will then be able to make edits to our own copy of this notebook.*</font>"
      ]
    },
    {
      "cell_type": "markdown",
      "metadata": {
        "id": "LVp8C4oB0yzk"
      },
      "source": [
        "# Python Programming: Conditional (If) Statements"
      ]
    },
    {
      "cell_type": "markdown",
      "metadata": {
        "id": "z4xtgHIJ1mui"
      },
      "source": [
        "## 1.0 Overview"
      ]
    },
    {
      "cell_type": "markdown",
      "metadata": {
        "id": "fS6UBkKd2DMo"
      },
      "source": [
        "So as to write useful python programs, we almost always need the ability to check conditions and apply a certain operation accordingly. Conditional statements like the if statement provide us with that ability."
      ]
    },
    {
      "cell_type": "markdown",
      "metadata": {
        "id": "lsZdOcCiAQdJ"
      },
      "source": [
        "##1.1 If"
      ]
    },
    {
      "cell_type": "code",
      "execution_count": null,
      "metadata": {
        "id": "-6728JH-2Esz"
      },
      "outputs": [
        {
          "name": "stdout",
          "output_type": "stream",
          "text": [
            "y is less than x\n"
          ]
        }
      ],
      "source": [
        "# Example 1\n",
        "# We can write an if statement by using the if keyword as shown:\n",
        "#\n",
        "x = 200\n",
        "y = 100\n",
        "if y < x:\n",
        "  print(\"y is less than x\")"
      ]
    },
    {
      "cell_type": "code",
      "execution_count": null,
      "metadata": {
        "id": "ueDGWWPm2FHW"
      },
      "outputs": [],
      "source": [
        "# Example 2\n",
        "# Below is another example of an if statement\n",
        "#\n",
        "x = 1\n",
        "y = 7\n",
        "\n",
        "# let's find out if x is greater than 7\n",
        "if x > y: \n",
        "  print('yes')"
      ]
    },
    {
      "cell_type": "markdown",
      "metadata": {
        "id": "MB_zJqo-41tc"
      },
      "source": [
        "### <font color=\"green\">1.1 Challenges</font>"
      ]
    },
    {
      "cell_type": "code",
      "execution_count": 3,
      "metadata": {
        "id": "DD_AaNYQFjQw"
      },
      "outputs": [],
      "source": [
        "# Challenge 1\n",
        "# In our first challenge, we will find out if y is less than 7 \n",
        "# If so, we will print out yes.\n",
        "#\n",
        "\n",
        "# We first declare and assign 1 to variable x and 7 to variable y\n",
        "x = 1\n",
        "y = 7\n",
        "\n",
        "if y < 7:\n",
        "    print(\"yes\")\n",
        "    "
      ]
    },
    {
      "cell_type": "code",
      "execution_count": 4,
      "metadata": {
        "id": "56hXs9yRFjFb"
      },
      "outputs": [
        {
          "name": "stdout",
          "output_type": "stream",
          "text": [
            "yes\n"
          ]
        }
      ],
      "source": [
        "# Challenge 2\n",
        "# Let's find out if x == true. If so, we will print out yes.\n",
        "# We won't need to declare any variable in this challenge.\n",
        "#\n",
        "if x == True:\n",
        "    print(\"yes\")"
      ]
    },
    {
      "cell_type": "code",
      "execution_count": 5,
      "metadata": {
        "id": "b6R-wr4xFp5e"
      },
      "outputs": [],
      "source": [
        "# Challenge 3\n",
        "# Let's find out if y is true. If so, we will print out yes. \n",
        "# We won't need to declare any variable in this challenge as well\n",
        "#\n",
        "if y == True:\n",
        "    print(\"yes\")"
      ]
    },
    {
      "cell_type": "markdown",
      "metadata": {
        "id": "e8-T8Xw-1qYp"
      },
      "source": [
        "## 1.2 Elif"
      ]
    },
    {
      "cell_type": "code",
      "execution_count": 6,
      "metadata": {
        "id": "ERoyYLdk2MLL"
      },
      "outputs": [
        {
          "name": "stdout",
          "output_type": "stream",
          "text": [
            "x and y are equal\n"
          ]
        }
      ],
      "source": [
        "# Example 1\n",
        "# The elif keyword is a keyword that will try another condition \n",
        "# if the previous condition was not true.\n",
        "# The example below shows how the elif keyword can be used.\n",
        "# \n",
        "x = 33\n",
        "y = 33\n",
        "\n",
        "if y < x:\n",
        "  print(\"y is less than x\")\n",
        "elif x == y:\n",
        "  print(\"x and y are equal\")"
      ]
    },
    {
      "cell_type": "code",
      "execution_count": 8,
      "metadata": {
        "id": "GT8Q7jdf2Mze"
      },
      "outputs": [
        {
          "name": "stdout",
          "output_type": "stream",
          "text": [
            "You chose 'a'.\n"
          ]
        }
      ],
      "source": [
        "# Example 2\n",
        "# This is another example of how the elif keyword can be used.\n",
        "#\n",
        "choice = 'a'\n",
        "if choice == 'a':\n",
        "    print(\"You chose 'a'.\")\n",
        "elif choice == 'b':\n",
        "    print(\"You chose 'b'.\")\n",
        "elif choice == 'c':\n",
        "    print(\"You chose 'c'.\")"
      ]
    },
    {
      "cell_type": "markdown",
      "metadata": {
        "id": "Rkw7o23I2N3w"
      },
      "source": [
        "### <font color=\"green\">1.2 Challenges </font>"
      ]
    },
    {
      "cell_type": "code",
      "execution_count": 10,
      "metadata": {
        "id": "4yVpcy0f2RBM"
      },
      "outputs": [
        {
          "name": "stdout",
          "output_type": "stream",
          "text": [
            "odd\n"
          ]
        }
      ],
      "source": [
        "# Challenge 1\n",
        "# Let's now write a program that reads an integer \n",
        "# from a user then displays a message indicating \n",
        "# whether the integer is even or odd.\n",
        "#\n",
        "\n",
        "x = int(input(\"Enter an integer: \"))\n",
        "if x % 2 == 0:\n",
        "    print(\"even\")\n",
        "else:\n",
        "    print(\"odd\")"
      ]
    },
    {
      "cell_type": "code",
      "execution_count": 45,
      "metadata": {
        "id": "LN1DVYd52R2_"
      },
      "outputs": [
        {
          "name": "stdout",
          "output_type": "stream",
          "text": [
            "Enter a single letter in the a-z alphabet!\n"
          ]
        }
      ],
      "source": [
        "# Challenge 2: \n",
        "# We now write a program that reads a input from a user. \n",
        "# If the user enters a, e, i, o or u then our program should \n",
        "# display a message indicating that the entered letter is a vowel. \n",
        "# If our user enters y then our program should display a message \n",
        "# indicating that sometimes y is a vowel, and sometimes y is a consonant. \n",
        "# Otherwise our program should display a message indicating that the\n",
        "# letter is a consonant.\n",
        "#\n",
        "\n",
        "vowel_lower = ['a', 'e', 'i', 'o', 'u']\n",
        "vowel_upper = []\n",
        "for i in vowel_lower:\n",
        "    new = i.upper()\n",
        "    vowel_upper.append(new)\n",
        "\n",
        "consonant_lower = ['b', 'c', 'd', 'f', 'g', 'h', 'j', 'k', 'l', 'm', 'n', 'p', 'q', 'r', 's', 't', 'v', 'w', 'x', 'z']\n",
        "consonant_upper = []\n",
        "for j in consonant_lower:\n",
        "    new_1 = j.upper()\n",
        "    consonant_upper.append(new_1)\n",
        "\n",
        "\n",
        "letter = input(\"Enter a letter: \")\n",
        "if letter in vowel_lower or letter in vowel_upper:\n",
        "    print(\"vowel\")\n",
        "elif letter in consonant_lower or letter in consonant_upper:\n",
        "    print(\"consonant\")\n",
        "elif letter == 'y' or letter == 'Y':\n",
        "    print('y is a vowel, and sometimes y is a consonant')\n",
        "else:\n",
        "    print('Enter a single letter in the a-z alphabet!')"
      ]
    },
    {
      "cell_type": "code",
      "execution_count": 26,
      "metadata": {},
      "outputs": [
        {
          "name": "stdout",
          "output_type": "stream",
          "text": [
            "T\n"
          ]
        }
      ],
      "source": [
        "letter = input(\"Enter a letter: \")\n",
        "new = letter.upper()\n",
        "print(new)"
      ]
    },
    {
      "cell_type": "code",
      "execution_count": 52,
      "metadata": {
        "id": "WyGQSsN22Rkg"
      },
      "outputs": [
        {
          "name": "stdout",
          "output_type": "stream",
          "text": [
            "64.0 - medium\n"
          ]
        }
      ],
      "source": [
        "# Challenge 3\n",
        "# Let's now also write another program that asks for a number and computes the\n",
        "# square of that number. If the square is 100 or greater, print the squared value\n",
        "# and the word 'big'. Otherwise if the square is 50 or greater, print the\n",
        "# squared value and the word 'medium'. Otherwise just print 'too small to bother with'.\n",
        "# Hint: To compute squared, use x*x or x**2\n",
        "#\n",
        "\n",
        "num = float(input(\"Enter a number: \"))\n",
        "square = num ** 2\n",
        "if square >= 100:\n",
        "    print(f\"{square} - big\")\n",
        "elif square >= 50:\n",
        "    print(\"{} - medium\".format(square))\n",
        "else:\n",
        "    print(\"too small to bother with\")"
      ]
    },
    {
      "cell_type": "markdown",
      "metadata": {
        "id": "bOZph-F21tuy"
      },
      "source": [
        "## 1.3 Else"
      ]
    },
    {
      "cell_type": "code",
      "execution_count": 53,
      "metadata": {
        "id": "F8nzCtX82v-A"
      },
      "outputs": [
        {
          "name": "stdout",
          "output_type": "stream",
          "text": [
            "x is greater than y\n"
          ]
        }
      ],
      "source": [
        "# Example 1\n",
        "# The else keyword will catch anything else which isn't caught by the preceding conditions.\n",
        "# A use case of else keyword is in the following example. \n",
        "#\n",
        "\n",
        "# Declaring our variables\n",
        "x = 134\n",
        "y = 33\n",
        "\n",
        "if y > x:\n",
        "  print(\"y is greater than x\")\n",
        "elif x == y:\n",
        "  print(\"x and y are equal\")\n",
        "else:\n",
        "  print(\"x is greater than y\")"
      ]
    },
    {
      "cell_type": "code",
      "execution_count": 54,
      "metadata": {
        "id": "Zk9b5LJF2wcB"
      },
      "outputs": [
        {
          "name": "stdout",
          "output_type": "stream",
          "text": [
            "No need for a sweater\n"
          ]
        }
      ],
      "source": [
        "# Example 2\n",
        "# The else keyword can also be used without elif as shown\n",
        "#\n",
        "\n",
        "# Prompting the user for an input\n",
        "temp_outside = float(input('What is the temperature outside? '))\n",
        "\n",
        "if temp_outside > 12:\n",
        "  print('No need for a sweater')\n",
        "else:\n",
        "  print('You need an sweater') "
      ]
    },
    {
      "cell_type": "code",
      "execution_count": 55,
      "metadata": {
        "id": "HaGipQqmvPXE"
      },
      "outputs": [
        {
          "ename": "SyntaxError",
          "evalue": "Missing parentheses in call to 'print'. Did you mean print('x is greater than 12')? (2035827107.py, line 9)",
          "output_type": "error",
          "traceback": [
            "\u001b[1;36m  Input \u001b[1;32mIn [55]\u001b[1;36m\u001b[0m\n\u001b[1;33m    print 'x is greater than 12'\u001b[0m\n\u001b[1;37m          ^\u001b[0m\n\u001b[1;31mSyntaxError\u001b[0m\u001b[1;31m:\u001b[0m Missing parentheses in call to 'print'. Did you mean print('x is greater than 12')?\n"
          ]
        }
      ],
      "source": [
        "# Example 3\n",
        "# We should also note that indentation is significantly important as shown\n",
        "# \n",
        "\n",
        "# Declaring our varioable\n",
        "x = 7\n",
        "\n",
        "if x > 12:\n",
        "    print 'x is greater than 12'\n",
        "    if x >= 17:\n",
        "        print 'x is also at least 17'\n",
        "elif x > 7:\n",
        "    print 'x is greater than 7 but not greater than 12'\n",
        "else:\n",
        "    print 'no condition matched'\n",
        "    print 'so x is 7 or less'"
      ]
    },
    {
      "cell_type": "code",
      "execution_count": 58,
      "metadata": {},
      "outputs": [
        {
          "name": "stdout",
          "output_type": "stream",
          "text": [
            "no condition matched\n",
            "so x is 7 or less\n"
          ]
        }
      ],
      "source": [
        "x = 7\n",
        "\n",
        "if x > 12:\n",
        "    print('x is greater than 12')\n",
        "elif x >= 17:\n",
        "    print('x is also at least 17')\n",
        "elif x > 7:\n",
        "    print('x is greater than 7 but not greater than 12')\n",
        "else:\n",
        "    print('no condition matched')\n",
        "    print('so x is 7 or less')"
      ]
    },
    {
      "cell_type": "markdown",
      "metadata": {
        "id": "X5rie0KH2xAp"
      },
      "source": [
        "### <font color=\"green\"> 1.3 Challenges </font>"
      ]
    },
    {
      "cell_type": "code",
      "execution_count": null,
      "metadata": {
        "id": "z3TvASOt2zIt"
      },
      "outputs": [
        {
          "name": "stdout",
          "output_type": "stream",
          "text": [
            "Labour day\n"
          ]
        }
      ],
      "source": [
        "# Challenge 1\n",
        "# Let's write a program that reads a month and day from the user. \n",
        "# If the month and day matches one of the holidays listed previously \n",
        "# then the program should display the Kenyan holiday’s name. \n",
        "# Otherwise our program should indicate that the entered month and day \n",
        "# do not correspond to a holiday. (You should use the else keyword)\n",
        "#\n",
        "date = int(input(\"Enter a date: \"))\n",
        "month = int(input(\"Enter a month: \"))\n",
        "\n",
        "if date == 1 and month == 1:\n",
        "    print('New years')\n",
        "elif date == 1 and month == 5:\n",
        "    print('Labour day')\n",
        "elif date == 1 and month == 6:\n",
        "    print('Madaraka day')\n",
        "elif date == 20 and month == 10:\n",
        "    print('Mashujaa day')\n",
        "elif date == 12 and month == 12:\n",
        "    print('Jamuhuri')\n",
        "elif date == 25 and month == 12:\n",
        "    print('Christmas')\n",
        "else:\n",
        "    print('month and day do not correspond to a holiday')"
      ]
    },
    {
      "cell_type": "code",
      "execution_count": 11,
      "metadata": {
        "id": "szGqVsAc2zft"
      },
      "outputs": [
        {
          "name": "stdout",
          "output_type": "stream",
          "text": [
            "The color is Violet.\n"
          ]
        }
      ],
      "source": [
        "# Challenge 2\n",
        "# Write a program that reads a wavelength from the user and reports its color. \n",
        "# Display an appropriate error message if the wavelength entered by the user \n",
        "# is outside of the visible spectrum. \n",
        "# (You can do external research on this challenge to determine the wavelength).\n",
        "# You should use the else keyword.\n",
        "#\n",
        "\n",
        "# Prompt the user to enter a wavelength\n",
        "wavelength = float(input(\"Enter a wavelength in nanometers: \"))\n",
        "\n",
        "# Determine the color based on the wavelength\n",
        "if 380 <= wavelength < 450:\n",
        "    print(\"The color is Violet.\")\n",
        "elif 450 <= wavelength < 495:\n",
        "    print(\"The color is Blue.\")\n",
        "elif 495 <= wavelength < 570:\n",
        "    print(\"The color is Green.\")\n",
        "elif 570 <= wavelength < 590:\n",
        "    print(\"The color is Yellow.\")\n",
        "elif 590 <= wavelength < 620:\n",
        "    print(\"The color is Orange.\")\n",
        "elif 620 <= wavelength <= 750:\n",
        "    print(\"The color is Red.\")\n",
        "else:\n",
        "    print(\"The entered wavelength is outside the visible spectrum.\")"
      ]
    },
    {
      "cell_type": "code",
      "execution_count": 15,
      "metadata": {
        "id": "1uHkXVZtuMPK"
      },
      "outputs": [
        {
          "name": "stdout",
          "output_type": "stream",
          "text": [
            "31\n"
          ]
        }
      ],
      "source": [
        "# Challenge 3\n",
        "# Let's create a program that reads the name of a month from the user as a string, \n",
        "# then displays the number of days in that month. \n",
        "# The length of a month varies from 28 to 31 days. \n",
        "# The program needs to also display “28 or 29 days” for February \n",
        "# so that leap years are taken into account.\n",
        "# The program should use the else keyword.\n",
        "# \n",
        "\n",
        "\n",
        "# dictionary with month and number of days\n",
        "months = {'January' : 31, 'February' : '28 or 29 days', 'March' : 31, 'April' : 30, 'May' : 31, \n",
        "          'June' : 30, 'July' : 31,'August' : 31, 'September' : 30, 'October' : 31, 'November' : 30, 'December' : 31}\n",
        "# prompt to ask for month\n",
        "month = input('Enter month: ')\n",
        "# change to lower and capitalize first letter\n",
        "month_lower = month.lower()\n",
        "month_capitalize = month_lower.capitalize()\n",
        "\n",
        "# conditional to determine days\n",
        "if month_capitalize in months:\n",
        "    print(months[month_capitalize])"
      ]
    },
    {
      "cell_type": "markdown",
      "metadata": {
        "id": "qs4cjFqC1wm6"
      },
      "source": [
        "## 1.4 And"
      ]
    },
    {
      "cell_type": "code",
      "execution_count": 59,
      "metadata": {
        "id": "QhXLc8z-2120"
      },
      "outputs": [
        {
          "name": "stdout",
          "output_type": "stream",
          "text": [
            "Both conditions are True\n"
          ]
        }
      ],
      "source": [
        "# Example 1\n",
        "# We can also use the and keyword to combine conditional statements.\n",
        "#\n",
        "\n",
        "# Declaring our variables\n",
        "x = 11\n",
        "y = 10\n",
        "z = 12\n",
        "\n",
        "if x > y and z > x:\n",
        "  print(\"Both conditions are True\")"
      ]
    },
    {
      "cell_type": "code",
      "execution_count": 60,
      "metadata": {
        "id": "fRaI1Odr22lS"
      },
      "outputs": [
        {
          "name": "stdout",
          "output_type": "stream",
          "text": [
            "Your name is James, and you are also 24 years old.\n"
          ]
        }
      ],
      "source": [
        "# Example 2\n",
        "# \n",
        "\n",
        "# Declaring our variables\n",
        "name = \"James\"    \n",
        "age  = 24 \n",
        "\n",
        "if name == \"James\" and age == 24:\n",
        "  print(\"Your name is James, and you are also 24 years old.\")"
      ]
    },
    {
      "cell_type": "code",
      "execution_count": 61,
      "metadata": {
        "id": "VB5NlzM922Ux"
      },
      "outputs": [
        {
          "name": "stdout",
          "output_type": "stream",
          "text": [
            "You are not James, who is 24 years old.\n"
          ]
        }
      ],
      "source": [
        "# Example 3 \n",
        "#\n",
        "\n",
        "# Declaring our variables\n",
        "name = \"Maryanne Muthoni\"      # Let's store our name in the name variable\n",
        "age  =  29       # Let's store our age in the age variable\n",
        "\n",
        "if name == \"James\" and age == 24:\n",
        "  print(\"Your name is James, and you are also 24 years old.\")\n",
        "else: \n",
        "  print(\"You are not James, who is 24 years old.\")"
      ]
    },
    {
      "cell_type": "markdown",
      "metadata": {
        "id": "UAFX7NgF23ab"
      },
      "source": [
        "### <font color=\"green\">1.4 Challenges</font>"
      ]
    },
    {
      "cell_type": "code",
      "execution_count": 12,
      "metadata": {
        "id": "g26Rql1z25Ff"
      },
      "outputs": [
        {
          "name": "stdout",
          "output_type": "stream",
          "text": [
            "This is not a triangle\n"
          ]
        }
      ],
      "source": [
        "# Challenge 1:\n",
        "# Given the 3 sides of a triangle x, y and z, let's find out \n",
        "# whether the triangle is equilateral, isosceles or obtuse.\n",
        "# Note: An equilateral triagnle has all sides are equal, \n",
        "# isosceles means that two of the sides are equal but not the third one, \n",
        "# scalene means all 3 are different. The user will be prompted \n",
        "# to provide the values of x, y and z\n",
        "# \n",
        "\n",
        "x = float(input('Enter x: '))\n",
        "y = float(input('Enter y: '))\n",
        "z = float(input('Enter z: '))\n",
        "\n",
        "def isTriangle(x, y, z):\n",
        "    if (x + y >= z) and (x + z >= y) and (z + y >= x):\n",
        "        typeTriangle(x, y, z)\n",
        "    else:\n",
        "        print('This is not a triangle')\n",
        "\n",
        "def typeTriangle(x, y, z):\n",
        "    if x == y == z:\n",
        "        print('Equilateral triangle')\n",
        "    elif x == y != z or x == z != y or y == z != x:\n",
        "        print('Isosceles triangle')\n",
        "    else:\n",
        "        print('Scalene triangle')\n",
        "\n",
        "isTriangle(x, y, z)"
      ]
    },
    {
      "cell_type": "markdown",
      "metadata": {
        "id": "GLyWRU4w11-M"
      },
      "source": [
        "## 1.5 Or"
      ]
    },
    {
      "cell_type": "code",
      "execution_count": 62,
      "metadata": {
        "id": "jIyeUjAq3D2n"
      },
      "outputs": [
        {
          "name": "stdout",
          "output_type": "stream",
          "text": [
            "At least one of the conditions is True\n"
          ]
        }
      ],
      "source": [
        "# Example 1\n",
        "# We can also use the if keyword to combine conditional statements. \n",
        "#\n",
        "\n",
        "# Declaring our variables\n",
        "x = 10\n",
        "y = 11\n",
        "z = 9\n",
        "\n",
        "if x > y or x > z:\n",
        "  print(\"At least one of the conditions is True\")"
      ]
    },
    {
      "cell_type": "code",
      "execution_count": 63,
      "metadata": {
        "id": "bq7T-If83FVy"
      },
      "outputs": [
        {
          "name": "stdout",
          "output_type": "stream",
          "text": [
            "x >= 15 or y <= 25 so if statement is True\n"
          ]
        }
      ],
      "source": [
        "# Example 2\n",
        "#\n",
        "\n",
        "# Declaring our variables\n",
        "x = int(input(\"Enter value of x = \"))\n",
        "y = int(input(\"Enter value of y = \"))\n",
        " \n",
        "if (x >= 15) or (y <= 25):\n",
        "  print(\"x >= 15 or y <= 25 so if statement is True\")\n",
        "else:\n",
        "  print(\"Value of x < 15 and y > 25 so if statement is False!\")"
      ]
    },
    {
      "cell_type": "code",
      "execution_count": 64,
      "metadata": {
        "id": "FN29xkMq3FnA"
      },
      "outputs": [
        {
          "name": "stdout",
          "output_type": "stream",
          "text": [
            "If statement is True\n"
          ]
        }
      ],
      "source": [
        "# Example 3\n",
        "#\n",
        "\n",
        "# Declaring our variables\n",
        "w = 10\n",
        "x = 15\n",
        "y = 20\n",
        "z = 25\n",
        " \n",
        "if (w == 10 or x == 15) and (y == 16 or z == 25):\n",
        "  print(\"If statement is True\")\n",
        "else:\n",
        "  print(\"False\")"
      ]
    },
    {
      "cell_type": "markdown",
      "metadata": {
        "id": "TNIQRbN-3GNh"
      },
      "source": [
        "### <font color=\"green\">1.5 Challenges</font>"
      ]
    },
    {
      "cell_type": "code",
      "execution_count": 71,
      "metadata": {
        "id": "Vhx4FY_P3J93"
      },
      "outputs": [
        {
          "name": "stdout",
          "output_type": "stream",
          "text": [
            "Right angled\n"
          ]
        }
      ],
      "source": [
        "# Challenge 1\n",
        "# Using the Or operator, let's create a function \n",
        "# that determines the type of a triangle \n",
        "# based on the lengths of its sides. A user will be inputting\n",
        "# the sides of the triange\n",
        "#\n",
        "\n",
        "a = float(input(\"Enter a:\"))\n",
        "b = float(input(\"Enter b:\"))\n",
        "c = float(input(\"Enter c:\"))\n",
        "\n",
        "if a == b == c:\n",
        "    print(\"Equilateral\")\n",
        "elif a == b or a ==c or b ==c:\n",
        "    print(\"Isosceles\")\n",
        "elif (a ** 2 == (b ** 2) + (c ** 2)) or (b ** 2 == (a ** 2) + (c ** 2)) or (c ** 2 == (b ** 2) + (a ** 2)):\n",
        "    print(\"Right angled\")\n",
        "else:\n",
        "    print(\"Scalene\")"
      ]
    },
    {
      "cell_type": "code",
      "execution_count": 77,
      "metadata": {
        "id": "VVh8NAu83KW6"
      },
      "outputs": [
        {
          "name": "stdout",
          "output_type": "stream",
          "text": [
            "Greater than 30\n",
            "None\n"
          ]
        }
      ],
      "source": [
        "# Challenge 2\n",
        "# Using the Or operator, let's create a function \n",
        "# that checks whether a number given \n",
        "# by a user is greater than 30 or greater than 100. \n",
        "#\n",
        "\n",
        "d = float(input(\"Enter d:\"))\n",
        "def check(d):\n",
        "    if d > 30:\n",
        "        print(\"Greater than 30\")\n",
        "    elif d > 100:\n",
        "        print(\"Greater than 100\")\n",
        "\n",
        "result = check(d)\n",
        "print(result)"
      ]
    },
    {
      "cell_type": "code",
      "execution_count": 1,
      "metadata": {
        "id": "5sMQVqPQtUaO"
      },
      "outputs": [
        {
          "name": "stdout",
          "output_type": "stream",
          "text": [
            "vowel\n"
          ]
        }
      ],
      "source": [
        "# Challenge 3\n",
        "# Let's write a program that prompts a letter from a user. \n",
        "# When any of the letters a, e, i, o or u are entered, \n",
        "# then your program should display a message indicating that the entered letter is a vowel. \n",
        "# If the user enters y then your program should display a message \n",
        "# indicating that sometimes y is a vowel, and sometimes y is a consonant. \n",
        "# Else the program should display a message indicating that the letter is a consonant.\n",
        "#\n",
        "\n",
        "vowel_lower = ['a', 'e', 'i', 'o', 'u']\n",
        "vowel_upper = []\n",
        "for i in vowel_lower:\n",
        "    new = i.upper()\n",
        "    vowel_upper.append(new)\n",
        "\n",
        "consonant_lower = ['b', 'c', 'd', 'f', 'g', 'h', 'j', 'k', 'l', 'm', 'n', 'p', 'q', 'r', 's', 't', 'v', 'w', 'x', 'z']\n",
        "consonant_upper = []\n",
        "for j in consonant_lower:\n",
        "    new_1 = j.upper()\n",
        "    consonant_upper.append(new_1)\n",
        "\n",
        "\n",
        "letter = input(\"Enter a letter: \")\n",
        "if letter in vowel_lower or letter in vowel_upper:\n",
        "    print(\"vowel\")\n",
        "elif letter in consonant_lower or letter in consonant_upper:\n",
        "    print(\"consonant\")\n",
        "elif letter == 'y' or letter == 'Y':\n",
        "    print('y is a vowel, and sometimes y is a consonant')\n",
        "else:\n",
        "    print('Enter a single letter in the a-z alphabet!')"
      ]
    }
  ],
  "metadata": {
    "colab": {
      "collapsed_sections": [
        "z4xtgHIJ1mui",
        "lsZdOcCiAQdJ",
        "MB_zJqo-41tc",
        "e8-T8Xw-1qYp",
        "Rkw7o23I2N3w",
        "bOZph-F21tuy",
        "qs4cjFqC1wm6",
        "UAFX7NgF23ab",
        "GLyWRU4w11-M"
      ],
      "provenance": [],
      "toc_visible": true
    },
    "kernelspec": {
      "display_name": "Python 3",
      "name": "python3"
    },
    "language_info": {
      "codemirror_mode": {
        "name": "ipython",
        "version": 3
      },
      "file_extension": ".py",
      "mimetype": "text/x-python",
      "name": "python",
      "nbconvert_exporter": "python",
      "pygments_lexer": "ipython3",
      "version": "3.10.12"
    }
  },
  "nbformat": 4,
  "nbformat_minor": 0
}
