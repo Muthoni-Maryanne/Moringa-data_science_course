{
  "cells": [
    {
      "cell_type": "markdown",
      "metadata": {
        "id": "at-j61Sw1cxq"
      },
      "source": [
        "<font color=\"green\">*To start working on this notebook, or any other notebook that we will use in the Moringa Data Science Course, we will need to save our own copy of it. We can do this by clicking File > Save a Copy in Drive. We will then be able to make edits to our own copy of this notebook.*</font>"
      ]
    },
    {
      "cell_type": "markdown",
      "metadata": {
        "id": "ME3zPRU_ulWC"
      },
      "source": [
        "# Python Programming: Functions"
      ]
    },
    {
      "cell_type": "markdown",
      "metadata": {
        "id": "qbHky4L6u0GF"
      },
      "source": [
        "## 1.0 Overview"
      ]
    },
    {
      "cell_type": "code",
      "execution_count": 1,
      "metadata": {
        "id": "xf2uz7Zgu26f"
      },
      "outputs": [
        {
          "name": "stdout",
          "output_type": "stream",
          "text": [
            "Hello, This is from my function!\n"
          ]
        }
      ],
      "source": [
        "# Example 1\n",
        "# Below is an example of a function - my_function.\n",
        "#\n",
        "\n",
        "# This function is called my_function and contains only one line of code\n",
        "# tasked with printing.\n",
        "\n",
        "# We define our function as shown;\n",
        "# Def is the keyword used to define the function, my_function is the name of our function\n",
        "# and print() is the operation that the function undertakes;\n",
        "def my_function():\n",
        "    print(\"Hello, This is from my function!\")\n",
        "\n",
        "# Upon defining the function, we can then call it as shown below. Calling a function means executing a function and printing its value.\n",
        "# Please take note of the parenthesis at the end, if you omit the parenthesis then the function will not display the output.\n",
        "my_function()"
      ]
    },
    {
      "cell_type": "code",
      "execution_count": 2,
      "metadata": {
        "id": "nhLXZF7HuiBJ"
      },
      "outputs": [
        {
          "name": "stdout",
          "output_type": "stream",
          "text": [
            "Hello!\n"
          ]
        }
      ],
      "source": [
        "# Example 2\n",
        "# Let's briefly look at built-in functions. Built-in functions are function that are already predetermined in python. \n",
        "# This means that these functions are always available for use without us having to define them.\n",
        "# Below is is an example of a built in function.\n",
        "\n",
        "# what we've done in the line below is to call the print function and passed a string Hello!. \n",
        "# We will learn more about passing to functions later in this session.\n",
        "print(\"Hello!\")\n",
        "\n",
        "# print() is the built - in function. \n",
        "# Examples of other built - in python functions include range(), str(), max(), min() etc. "
      ]
    },
    {
      "cell_type": "code",
      "execution_count": 7,
      "metadata": {
        "id": "bOvvo7FLXmks"
      },
      "outputs": [],
      "source": [
        "# Example 3\n",
        "#import module\n",
        "import math\n",
        "\n",
        "# We can also use a function to perform a custom complex mathematical operation\n",
        "# just as shown in the newtons_method function. \n",
        "# Bear with us for now, you do not necessarily need to understand what the newtons method\n",
        "# which is the complex mathematical operation entails. \n",
        "# What you need to know for know isthat functions are used to perform a specific\n",
        "# set of operations then return an output as shown below. \n",
        "#\n",
        "\n",
        "\n",
        "def newtons_method(num, estimate):\n",
        "    # Computing a new_estimate\n",
        "    new_estimate = (estimate + num / estimate) / 2\n",
        "    print(new_estimate)\n",
        "    # Base Case: Comparing our estimate with built-in functions value\n",
        "    if new_estimate == math.sqrt(num):\n",
        "        return True\n",
        "    else:\n",
        "        # let's return our output.\n",
        "        return newtons_method(num, new_estimate)\n",
        "      \n",
        "# As we have noticed, we defined our fuction - newtons_method, then passed num and estimate \n",
        "# to the function. These values that we have passed are referred to as parameters. \n",
        "# Values can be passed to functions, then the functions perform a set of operations \n",
        "# and provide an output based on the given input. \n",
        "# More about parameters will be covered later in this session. "
      ]
    },
    {
      "cell_type": "markdown",
      "metadata": {
        "id": "4id48OhWr7L2"
      },
      "source": [
        "## 1.1 Using Built-in Functions "
      ]
    },
    {
      "cell_type": "code",
      "execution_count": 8,
      "metadata": {
        "id": "1Xg3vxh8sASM"
      },
      "outputs": [
        {
          "name": "stdout",
          "output_type": "stream",
          "text": [
            "43\n",
            "Valerie\n"
          ]
        }
      ],
      "source": [
        "# Example 1\n",
        "# Let's now see how to work with a few built-in python functions\n",
        "# We will start learning about the max() built-in function\n",
        "# \n",
        "\n",
        "# The max() function will return the item with the highest value as shown\n",
        "# in the given arrays \n",
        "x = max([15, 20, 43, 33, 43])\n",
        "print(x)\n",
        "\n",
        "# Using the max() function, we can return the items with the highest value alphabetically\n",
        "y = max([\"Alice\", \"James\", \"Valerie\"])\n",
        "print(y)"
      ]
    },
    {
      "cell_type": "code",
      "execution_count": 9,
      "metadata": {
        "id": "MwsgXFvQsAMZ"
      },
      "outputs": [
        {
          "name": "stdout",
          "output_type": "stream",
          "text": [
            "<class 'float'>\n",
            "<class 'int'>\n",
            "<class 'list'>\n",
            "<class 'str'>\n"
          ]
        }
      ],
      "source": [
        "# Example 2\n",
        "# Another built-in function that we can use is the type() function.\n",
        "# Let's use it to return the data type of the specified object. \n",
        "#\n",
        "w = 12.2\n",
        "x = 100\n",
        "y = ['Samsung', 'Sony', 'Panasonic']\n",
        "z = \"Upendo\"\n",
        "\n",
        "print(type(w))\n",
        "\n",
        "# Find out the type of x\n",
        "print(type(x))\n",
        "\n",
        "# Find out the type of y\n",
        "print(type(y))\n",
        "\n",
        "# Find out the type of z\n",
        "print(type(z))"
      ]
    },
    {
      "cell_type": "code",
      "execution_count": 10,
      "metadata": {
        "id": "AqJAthgIr__w"
      },
      "outputs": [
        {
          "name": "stdout",
          "output_type": "stream",
          "text": [
            "2067\n"
          ]
        }
      ],
      "source": [
        "# Example 3\n",
        "# This is how we can also use the built in sum() function\n",
        "# \n",
        "\n",
        "a = [232, 323, 434, 523, 323, 232] \n",
        "print(sum(a))\n",
        "\n",
        "# As we have already mentioned, examples of other built - in python functions \n",
        "# include range(), str(), max(), min() etc. "
      ]
    },
    {
      "cell_type": "markdown",
      "metadata": {
        "id": "51m8VyKYs_e3"
      },
      "source": [
        "### <font color=\"green\">1.1 Challenges</font>"
      ]
    },
    {
      "cell_type": "code",
      "execution_count": 11,
      "metadata": {
        "id": "VP7RNa_5tYiL"
      },
      "outputs": [
        {
          "data": {
            "text/plain": [
              "232"
            ]
          },
          "execution_count": 11,
          "metadata": {},
          "output_type": "execute_result"
        }
      ],
      "source": [
        "# Challenge 1\n",
        "# Now that we have learnt to use some built-in functions, \n",
        "# Let's use the min() function to return the item with the lowest value below\n",
        "#\n",
        "a = [232, 323, 434, 523, 323, 232]\n",
        "min(a)"
      ]
    },
    {
      "cell_type": "code",
      "execution_count": 12,
      "metadata": {
        "id": "7OFu5O7JtZJy"
      },
      "outputs": [
        {
          "data": {
            "text/plain": [
              "23"
            ]
          },
          "execution_count": 12,
          "metadata": {},
          "output_type": "execute_result"
        }
      ],
      "source": [
        "# Challenge 2\n",
        "# Let's also round off the number 23.43 using the round() function\n",
        "#\n",
        "round(23.43)"
      ]
    },
    {
      "cell_type": "code",
      "execution_count": 14,
      "metadata": {
        "id": "Ogr-yc4BtZIf"
      },
      "outputs": [
        {
          "name": "stdout",
          "output_type": "stream",
          "text": [
            "[100, 3, 25, 10, 0, 1, 80, 50]\n",
            "[0, 1, 3, 10, 25, 50, 80, 100]\n",
            "[0, 1, 3, 10, 25, 50, 80, 100]\n"
          ]
        }
      ],
      "source": [
        "# Challenge 3\n",
        "# Lastly, let's give an example where the sorted() function can be used;\n",
        "# Hint: Feel free to perform some external research \n",
        "# \n",
        "\n",
        "#sorted creates a new list while sort method sorts in place.\n",
        "a = [100, 3, 25, 10, 0, 1, 80, 50]\n",
        "b = sorted(a)\n",
        "print(a)\n",
        "print(b)\n",
        "\n",
        "c = [100, 3, 25, 10, 0, 1, 80, 50]\n",
        "c.sort()\n",
        "print(c)"
      ]
    },
    {
      "cell_type": "markdown",
      "metadata": {
        "id": "-yVfw__Bu4Sl"
      },
      "source": [
        "## 1.2 Creating a Function"
      ]
    },
    {
      "cell_type": "markdown",
      "metadata": {
        "id": "w4tM_RB3yPT4"
      },
      "source": [
        "We will now create functions. \n",
        "\n",
        "Below are steps that we can use to create a function: \n",
        "\n",
        "*  **Step 1**: We first declare the function with the keyword `def` followed by the function name and brackets.\n",
        "*   **Step 2**: Add the program statements to be executed.\n",
        "*   **Step 3** End the function with/without return statement.\n",
        "*  **Step 4**: We will learn more about this step later in this session. If our function takes parameters, we write the arguments inside the opening and closing parentheses of the function, and end the declaration with a colon. \n",
        "\n",
        "\n",
        "\n"
      ]
    },
    {
      "cell_type": "code",
      "execution_count": 15,
      "metadata": {
        "id": "SkEtwBmMzb8k"
      },
      "outputs": [
        {
          "data": {
            "text/plain": [
              "10"
            ]
          },
          "execution_count": 15,
          "metadata": {},
          "output_type": "execute_result"
        }
      ],
      "source": [
        "# Example 1\n",
        "# To start, we will create a function to find out which \n",
        "# of two numbers is greater than the other \n",
        "# \n",
        "\n",
        "# we define it by giving it the name max_of_two\n",
        "def max_of_two():\n",
        "  \n",
        "  # we then define our variables that will contain the numbers to be manipulated\n",
        "  first_number  = 10\n",
        "  second_number = 5\n",
        "  \n",
        "  # then we perform our operations i.e. in this case,\n",
        "  # if first_number is greater than second_number etc.\n",
        "  if first_number > second_number:\n",
        "    \n",
        "      # the return keyword allows us to provide back the result/output of our function\n",
        "    return first_number\n",
        "  else:\n",
        "    # the return key word allows us to provide back the result/output of our function\n",
        "    return second_number\n",
        " \n",
        "# Lastly, we do the most important step; which is to call the function that \n",
        "# we have just created above. Calling allows us to use the function. \n",
        "# We have also been calling our built-in functions from the previous section.\n",
        "#\n",
        "max_of_two()"
      ]
    },
    {
      "cell_type": "code",
      "execution_count": 16,
      "metadata": {
        "id": "3P8OAAcGyOP7"
      },
      "outputs": [
        {
          "data": {
            "text/plain": [
              "36"
            ]
          },
          "execution_count": 16,
          "metadata": {},
          "output_type": "execute_result"
        }
      ],
      "source": [
        "# Example 2\n",
        "# Let's now create another function to find out the square of a certain number \n",
        "# \n",
        "\n",
        "# defining our function name\n",
        "def square_of_number():\n",
        "  \n",
        "  # assigning 6 to our variable nuber \n",
        "  number = 6\n",
        "  \n",
        "\n",
        "  square_square_of_number = number ** 2\n",
        "  \n",
        "  # the return keyword allows us to provide back the result/output of our function\n",
        "  return square_square_of_number\n",
        "\n",
        "# now calling our function\n",
        "square_of_number()"
      ]
    },
    {
      "cell_type": "code",
      "execution_count": 17,
      "metadata": {
        "id": "QZFwx1lgyOhh"
      },
      "outputs": [
        {
          "name": "stdout",
          "output_type": "stream",
          "text": [
            "21\n"
          ]
        }
      ],
      "source": [
        "# Example 3\n",
        "# Lastly, we create another function to sum all the numbers in a list a = [6, 5, 4, 3, 2, 1]\n",
        "# \n",
        "\n",
        "def sum():\n",
        "  a = [6, 5, 4, 3, 2, 1]\n",
        "  total = 0\n",
        "  \n",
        "    # performing our operation by using a for loop to iterate through our list\n",
        "  for x in a:\n",
        "    \n",
        "    # for each iteration we perform total = total + 1;  which can be simply be written as shown below\n",
        "    total += x\n",
        "    \n",
        "  # Then lastly return our output which is to print out the value of the total variable \n",
        "  return print(total)\n",
        "\n",
        "# Lastly we call the function in order to use it\n",
        "sum()"
      ]
    },
    {
      "cell_type": "markdown",
      "metadata": {
        "id": "ArRLPeQ0zTD7"
      },
      "source": [
        "### <font color=\"green\">1.2 Challenges</font>"
      ]
    },
    {
      "cell_type": "code",
      "execution_count": 18,
      "metadata": {
        "id": "NQ87DKM9zaMG"
      },
      "outputs": [
        {
          "data": {
            "text/plain": [
              "6.7"
            ]
          },
          "execution_count": 18,
          "metadata": {},
          "output_type": "execute_result"
        }
      ],
      "source": [
        "# Challenge 1\n",
        "# Now that we have seen how to create functions, \n",
        "# let's create one that returns the maximum of two numbers;\n",
        "#\n",
        "\n",
        "def max_two(a, b):\n",
        "    if a > b:\n",
        "        return a\n",
        "    else:\n",
        "        return b\n",
        "\n",
        "max_two(3, 6.7)"
      ]
    },
    {
      "cell_type": "code",
      "execution_count": 19,
      "metadata": {
        "id": "zFnXOKg5zaBc"
      },
      "outputs": [
        {
          "name": "stdout",
          "output_type": "stream",
          "text": [
            "variable is between 3 and 10\n",
            "variable is between 3 and 10\n",
            "variable is between 3 and 10\n",
            "variable is not between 3 and 10\n",
            "variable is not between 3 and 10\n"
          ]
        }
      ],
      "source": [
        "# Challenge 2\n",
        "# Let's write another function that tell us whether if a variable is between 3 and 10\n",
        "#\n",
        "\n",
        "def between(num):\n",
        "    if 3 <= num <= 10:\n",
        "        print(\"variable is between 3 and 10\") \n",
        "    else:\n",
        "        print(\"variable is not between 3 and 10\")\n",
        "\n",
        "between(3)\n",
        "between(6)\n",
        "between(10)\n",
        "between(100)\n",
        "between(-5)"
      ]
    },
    {
      "cell_type": "code",
      "execution_count": 33,
      "metadata": {
        "id": "6SvU7V_LzZuK"
      },
      "outputs": [
        {
          "data": {
            "text/plain": [
              "375"
            ]
          },
          "execution_count": 33,
          "metadata": {},
          "output_type": "execute_result"
        }
      ],
      "source": [
        "# Challenge 3\n",
        "# Lastly, an online retailer provides express shipping for many of its items at a rate of Ksh 200 for the first item, and Ksh. 25 for each subsequent item. \n",
        "# Write a function that takes the number of items in the order from the user. \n",
        "# Return the shipping charge for the order as the function’s result. \n",
        "#\n",
        "\n",
        "order = int(input(\"Enter number of items: \"))\n",
        "\n",
        "def cost(order):\n",
        "    amount = 200\n",
        "\n",
        "    if order == 1:\n",
        "        return amount\n",
        "    elif order > 1:\n",
        "        total = amount + ((order - 1) * 25)\n",
        "        return total\n",
        "\n",
        "cost(order)"
      ]
    },
    {
      "cell_type": "markdown",
      "metadata": {
        "id": "zpJ7dsVWyURZ"
      },
      "source": [
        "## 1.3 Passing Parameters and Returning Values"
      ]
    },
    {
      "cell_type": "code",
      "execution_count": 22,
      "metadata": {
        "id": "oGbSQfdDyy91"
      },
      "outputs": [
        {
          "name": "stdout",
          "output_type": "stream",
          "text": [
            "3.0\n"
          ]
        }
      ],
      "source": [
        "# Example 1\n",
        "# Parameters are variables that give to a function. The function later use the values \n",
        "# of those parameters which we call arguments to perform operations then return an output.\n",
        "# The ability for functions to take in parameter is important because it allows \n",
        "# for code re-use in different contexts. \n",
        "# To see this, let's create a function that finds the average of two numbers a and b.\n",
        "# These numbers a and b are referred to as parameters and their values are referred to arguements.\n",
        "# The parameters will be provided to the function and the function will \n",
        "# perform the average and return the result of these operations as show.\n",
        "# \n",
        "\n",
        "# Defining our function\n",
        "def avg(a,b):\n",
        "  \n",
        "  # Performing the operation\n",
        "  two_numbers_avg = (a + b)/2\n",
        "  \n",
        "  # Returning the result of our function\n",
        "  return print(two_numbers_avg) \n",
        "\n",
        "# Calling our function with arguments\n",
        "avg(2,4)"
      ]
    },
    {
      "cell_type": "code",
      "execution_count": 23,
      "metadata": {
        "id": "eAMUefKlyzA1"
      },
      "outputs": [
        {
          "name": "stdout",
          "output_type": "stream",
          "text": [
            "Chitanda, Tomanzi\n"
          ]
        }
      ],
      "source": [
        "# Example 2\n",
        "# Let's create another function that takes in the name and age of a person\n",
        "# then prints out their name \n",
        "# \n",
        "\n",
        "def lastFirst(firstName, lastName):\n",
        "    separator = ', '\n",
        "    result = lastName + separator + firstName\n",
        "    return print(result)\n",
        " \n",
        "lastFirst('Tomanzi', 'Chitanda')"
      ]
    },
    {
      "cell_type": "code",
      "execution_count": 24,
      "metadata": {
        "id": "YxUu-a7AzzcP"
      },
      "outputs": [
        {
          "name": "stdout",
          "output_type": "stream",
          "text": [
            "50.24\n"
          ]
        }
      ],
      "source": [
        "# Example 3\n",
        "# Let's create another function that calculates the area of a cirlce when\n",
        "# the value radius is passed to the function\n",
        "# \n",
        "\n",
        "def circleArea(radius):\n",
        "    area = 3.14 * radius * radius \n",
        "    return print(area)\n",
        "  \n",
        "# Calling our function and passing an argumement\n",
        "circleArea(4)"
      ]
    },
    {
      "cell_type": "markdown",
      "metadata": {
        "id": "qmwPuSsPyqff"
      },
      "source": [
        "### <font color=\"green\">1.3 Challenges</font>"
      ]
    },
    {
      "cell_type": "code",
      "execution_count": 50,
      "metadata": {
        "id": "8pa4b5Jcz1kf"
      },
      "outputs": [
        {
          "data": {
            "text/plain": [
              "29"
            ]
          },
          "execution_count": 50,
          "metadata": {},
          "output_type": "execute_result"
        }
      ],
      "source": [
        "# Challenge 1\n",
        "# Write a function that determines how many days there are in a particular month. \n",
        "# Your function will have two parameters: The month as an integer between 1 and 12, \n",
        "# and the year as a four digit integer. \n",
        "# Ensure that your function reports the correct number of days in February for leap years.\n",
        "# \n",
        "\n",
        "import calendar\n",
        "\n",
        "year = int(input('Enter year: '))\n",
        "month = int(input('Enter month: '))\n",
        "\n",
        "def month_days(year, month):\n",
        "    days = calendar.monthrange(year, month)\n",
        "    # return first day of month and number of days in month\n",
        "    # index so it returns number of days\n",
        "    return (days[1])\n",
        "\n",
        "month_days(year, month)\n"
      ]
    },
    {
      "cell_type": "code",
      "execution_count": 26,
      "metadata": {},
      "outputs": [
        {
          "name": "stdout",
          "output_type": "stream",
          "text": [
            "Help on module calendar:\n",
            "\n",
            "NAME\n",
            "    calendar - Calendar printing functions\n",
            "\n",
            "MODULE REFERENCE\n",
            "    https://docs.python.org/3.10/library/calendar.html\n",
            "    \n",
            "    The following documentation is automatically generated from the Python\n",
            "    source files.  It may be incomplete, incorrect or include features that\n",
            "    are considered implementation detail and may vary between Python\n",
            "    implementations.  When in doubt, consult the module reference at the\n",
            "    location listed above.\n",
            "\n",
            "DESCRIPTION\n",
            "    Note when comparing these calendars to the ones printed by cal(1): By\n",
            "    default, these calendars have Monday as the first day of the week, and\n",
            "    Sunday as the last (the European convention). Use setfirstweekday() to\n",
            "    set the first day of the week (0=Monday, 6=Sunday).\n",
            "\n",
            "CLASSES\n",
            "    builtins.ValueError(builtins.Exception)\n",
            "        IllegalMonthError\n",
            "        IllegalWeekdayError\n",
            "    builtins.object\n",
            "        Calendar\n",
            "            HTMLCalendar\n",
            "                LocaleHTMLCalendar\n",
            "            TextCalendar\n",
            "                LocaleTextCalendar\n",
            "    \n",
            "    class Calendar(builtins.object)\n",
            "     |  Calendar(firstweekday=0)\n",
            "     |  \n",
            "     |  Base calendar class. This class doesn't do any formatting. It simply\n",
            "     |  provides data to subclasses.\n",
            "     |  \n",
            "     |  Methods defined here:\n",
            "     |  \n",
            "     |  __init__(self, firstweekday=0)\n",
            "     |      Initialize self.  See help(type(self)) for accurate signature.\n",
            "     |  \n",
            "     |  getfirstweekday(self)\n",
            "     |  \n",
            "     |  itermonthdates(self, year, month)\n",
            "     |      Return an iterator for one month. The iterator will yield datetime.date\n",
            "     |      values and will always iterate through complete weeks, so it will yield\n",
            "     |      dates outside the specified month.\n",
            "     |  \n",
            "     |  itermonthdays(self, year, month)\n",
            "     |      Like itermonthdates(), but will yield day numbers. For days outside\n",
            "     |      the specified month the day number is 0.\n",
            "     |  \n",
            "     |  itermonthdays2(self, year, month)\n",
            "     |      Like itermonthdates(), but will yield (day number, weekday number)\n",
            "     |      tuples. For days outside the specified month the day number is 0.\n",
            "     |  \n",
            "     |  itermonthdays3(self, year, month)\n",
            "     |      Like itermonthdates(), but will yield (year, month, day) tuples.  Can be\n",
            "     |      used for dates outside of datetime.date range.\n",
            "     |  \n",
            "     |  itermonthdays4(self, year, month)\n",
            "     |      Like itermonthdates(), but will yield (year, month, day, day_of_week) tuples.\n",
            "     |      Can be used for dates outside of datetime.date range.\n",
            "     |  \n",
            "     |  iterweekdays(self)\n",
            "     |      Return an iterator for one week of weekday numbers starting with the\n",
            "     |      configured first one.\n",
            "     |  \n",
            "     |  monthdatescalendar(self, year, month)\n",
            "     |      Return a matrix (list of lists) representing a month's calendar.\n",
            "     |      Each row represents a week; week entries are datetime.date values.\n",
            "     |  \n",
            "     |  monthdays2calendar(self, year, month)\n",
            "     |      Return a matrix representing a month's calendar.\n",
            "     |      Each row represents a week; week entries are\n",
            "     |      (day number, weekday number) tuples. Day numbers outside this month\n",
            "     |      are zero.\n",
            "     |  \n",
            "     |  monthdayscalendar(self, year, month)\n",
            "     |      Return a matrix representing a month's calendar.\n",
            "     |      Each row represents a week; days outside this month are zero.\n",
            "     |  \n",
            "     |  setfirstweekday(self, firstweekday)\n",
            "     |  \n",
            "     |  yeardatescalendar(self, year, width=3)\n",
            "     |      Return the data for the specified year ready for formatting. The return\n",
            "     |      value is a list of month rows. Each month row contains up to width months.\n",
            "     |      Each month contains between 4 and 6 weeks and each week contains 1-7\n",
            "     |      days. Days are datetime.date objects.\n",
            "     |  \n",
            "     |  yeardays2calendar(self, year, width=3)\n",
            "     |      Return the data for the specified year ready for formatting (similar to\n",
            "     |      yeardatescalendar()). Entries in the week lists are\n",
            "     |      (day number, weekday number) tuples. Day numbers outside this month are\n",
            "     |      zero.\n",
            "     |  \n",
            "     |  yeardayscalendar(self, year, width=3)\n",
            "     |      Return the data for the specified year ready for formatting (similar to\n",
            "     |      yeardatescalendar()). Entries in the week lists are day numbers.\n",
            "     |      Day numbers outside this month are zero.\n",
            "     |  \n",
            "     |  ----------------------------------------------------------------------\n",
            "     |  Data descriptors defined here:\n",
            "     |  \n",
            "     |  __dict__\n",
            "     |      dictionary for instance variables (if defined)\n",
            "     |  \n",
            "     |  __weakref__\n",
            "     |      list of weak references to the object (if defined)\n",
            "     |  \n",
            "     |  firstweekday\n",
            "    \n",
            "    class HTMLCalendar(Calendar)\n",
            "     |  HTMLCalendar(firstweekday=0)\n",
            "     |  \n",
            "     |  This calendar returns complete HTML pages.\n",
            "     |  \n",
            "     |  Method resolution order:\n",
            "     |      HTMLCalendar\n",
            "     |      Calendar\n",
            "     |      builtins.object\n",
            "     |  \n",
            "     |  Methods defined here:\n",
            "     |  \n",
            "     |  formatday(self, day, weekday)\n",
            "     |      Return a day as a table cell.\n",
            "     |  \n",
            "     |  formatmonth(self, theyear, themonth, withyear=True)\n",
            "     |      Return a formatted month as a table.\n",
            "     |  \n",
            "     |  formatmonthname(self, theyear, themonth, withyear=True)\n",
            "     |      Return a month name as a table row.\n",
            "     |  \n",
            "     |  formatweek(self, theweek)\n",
            "     |      Return a complete week as a table row.\n",
            "     |  \n",
            "     |  formatweekday(self, day)\n",
            "     |      Return a weekday name as a table header.\n",
            "     |  \n",
            "     |  formatweekheader(self)\n",
            "     |      Return a header for a week as a table row.\n",
            "     |  \n",
            "     |  formatyear(self, theyear, width=3)\n",
            "     |      Return a formatted year as a table of tables.\n",
            "     |  \n",
            "     |  formatyearpage(self, theyear, width=3, css='calendar.css', encoding=None)\n",
            "     |      Return a formatted year as a complete HTML page.\n",
            "     |  \n",
            "     |  ----------------------------------------------------------------------\n",
            "     |  Data and other attributes defined here:\n",
            "     |  \n",
            "     |  cssclass_month = 'month'\n",
            "     |  \n",
            "     |  cssclass_month_head = 'month'\n",
            "     |  \n",
            "     |  cssclass_noday = 'noday'\n",
            "     |  \n",
            "     |  cssclass_year = 'year'\n",
            "     |  \n",
            "     |  cssclass_year_head = 'year'\n",
            "     |  \n",
            "     |  cssclasses = ['mon', 'tue', 'wed', 'thu', 'fri', 'sat', 'sun']\n",
            "     |  \n",
            "     |  cssclasses_weekday_head = ['mon', 'tue', 'wed', 'thu', 'fri', 'sat', '...\n",
            "     |  \n",
            "     |  ----------------------------------------------------------------------\n",
            "     |  Methods inherited from Calendar:\n",
            "     |  \n",
            "     |  __init__(self, firstweekday=0)\n",
            "     |      Initialize self.  See help(type(self)) for accurate signature.\n",
            "     |  \n",
            "     |  getfirstweekday(self)\n",
            "     |  \n",
            "     |  itermonthdates(self, year, month)\n",
            "     |      Return an iterator for one month. The iterator will yield datetime.date\n",
            "     |      values and will always iterate through complete weeks, so it will yield\n",
            "     |      dates outside the specified month.\n",
            "     |  \n",
            "     |  itermonthdays(self, year, month)\n",
            "     |      Like itermonthdates(), but will yield day numbers. For days outside\n",
            "     |      the specified month the day number is 0.\n",
            "     |  \n",
            "     |  itermonthdays2(self, year, month)\n",
            "     |      Like itermonthdates(), but will yield (day number, weekday number)\n",
            "     |      tuples. For days outside the specified month the day number is 0.\n",
            "     |  \n",
            "     |  itermonthdays3(self, year, month)\n",
            "     |      Like itermonthdates(), but will yield (year, month, day) tuples.  Can be\n",
            "     |      used for dates outside of datetime.date range.\n",
            "     |  \n",
            "     |  itermonthdays4(self, year, month)\n",
            "     |      Like itermonthdates(), but will yield (year, month, day, day_of_week) tuples.\n",
            "     |      Can be used for dates outside of datetime.date range.\n",
            "     |  \n",
            "     |  iterweekdays(self)\n",
            "     |      Return an iterator for one week of weekday numbers starting with the\n",
            "     |      configured first one.\n",
            "     |  \n",
            "     |  monthdatescalendar(self, year, month)\n",
            "     |      Return a matrix (list of lists) representing a month's calendar.\n",
            "     |      Each row represents a week; week entries are datetime.date values.\n",
            "     |  \n",
            "     |  monthdays2calendar(self, year, month)\n",
            "     |      Return a matrix representing a month's calendar.\n",
            "     |      Each row represents a week; week entries are\n",
            "     |      (day number, weekday number) tuples. Day numbers outside this month\n",
            "     |      are zero.\n",
            "     |  \n",
            "     |  monthdayscalendar(self, year, month)\n",
            "     |      Return a matrix representing a month's calendar.\n",
            "     |      Each row represents a week; days outside this month are zero.\n",
            "     |  \n",
            "     |  setfirstweekday(self, firstweekday)\n",
            "     |  \n",
            "     |  yeardatescalendar(self, year, width=3)\n",
            "     |      Return the data for the specified year ready for formatting. The return\n",
            "     |      value is a list of month rows. Each month row contains up to width months.\n",
            "     |      Each month contains between 4 and 6 weeks and each week contains 1-7\n",
            "     |      days. Days are datetime.date objects.\n",
            "     |  \n",
            "     |  yeardays2calendar(self, year, width=3)\n",
            "     |      Return the data for the specified year ready for formatting (similar to\n",
            "     |      yeardatescalendar()). Entries in the week lists are\n",
            "     |      (day number, weekday number) tuples. Day numbers outside this month are\n",
            "     |      zero.\n",
            "     |  \n",
            "     |  yeardayscalendar(self, year, width=3)\n",
            "     |      Return the data for the specified year ready for formatting (similar to\n",
            "     |      yeardatescalendar()). Entries in the week lists are day numbers.\n",
            "     |      Day numbers outside this month are zero.\n",
            "     |  \n",
            "     |  ----------------------------------------------------------------------\n",
            "     |  Data descriptors inherited from Calendar:\n",
            "     |  \n",
            "     |  __dict__\n",
            "     |      dictionary for instance variables (if defined)\n",
            "     |  \n",
            "     |  __weakref__\n",
            "     |      list of weak references to the object (if defined)\n",
            "     |  \n",
            "     |  firstweekday\n",
            "    \n",
            "    class IllegalMonthError(builtins.ValueError)\n",
            "     |  IllegalMonthError(month)\n",
            "     |  \n",
            "     |  # Exceptions raised for bad input\n",
            "     |  \n",
            "     |  Method resolution order:\n",
            "     |      IllegalMonthError\n",
            "     |      builtins.ValueError\n",
            "     |      builtins.Exception\n",
            "     |      builtins.BaseException\n",
            "     |      builtins.object\n",
            "     |  \n",
            "     |  Methods defined here:\n",
            "     |  \n",
            "     |  __init__(self, month)\n",
            "     |      Initialize self.  See help(type(self)) for accurate signature.\n",
            "     |  \n",
            "     |  __str__(self)\n",
            "     |      Return str(self).\n",
            "     |  \n",
            "     |  ----------------------------------------------------------------------\n",
            "     |  Data descriptors defined here:\n",
            "     |  \n",
            "     |  __weakref__\n",
            "     |      list of weak references to the object (if defined)\n",
            "     |  \n",
            "     |  ----------------------------------------------------------------------\n",
            "     |  Static methods inherited from builtins.ValueError:\n",
            "     |  \n",
            "     |  __new__(*args, **kwargs) from builtins.type\n",
            "     |      Create and return a new object.  See help(type) for accurate signature.\n",
            "     |  \n",
            "     |  ----------------------------------------------------------------------\n",
            "     |  Methods inherited from builtins.BaseException:\n",
            "     |  \n",
            "     |  __delattr__(self, name, /)\n",
            "     |      Implement delattr(self, name).\n",
            "     |  \n",
            "     |  __getattribute__(self, name, /)\n",
            "     |      Return getattr(self, name).\n",
            "     |  \n",
            "     |  __reduce__(...)\n",
            "     |      Helper for pickle.\n",
            "     |  \n",
            "     |  __repr__(self, /)\n",
            "     |      Return repr(self).\n",
            "     |  \n",
            "     |  __setattr__(self, name, value, /)\n",
            "     |      Implement setattr(self, name, value).\n",
            "     |  \n",
            "     |  __setstate__(...)\n",
            "     |  \n",
            "     |  with_traceback(...)\n",
            "     |      Exception.with_traceback(tb) --\n",
            "     |      set self.__traceback__ to tb and return self.\n",
            "     |  \n",
            "     |  ----------------------------------------------------------------------\n",
            "     |  Data descriptors inherited from builtins.BaseException:\n",
            "     |  \n",
            "     |  __cause__\n",
            "     |      exception cause\n",
            "     |  \n",
            "     |  __context__\n",
            "     |      exception context\n",
            "     |  \n",
            "     |  __dict__\n",
            "     |  \n",
            "     |  __suppress_context__\n",
            "     |  \n",
            "     |  __traceback__\n",
            "     |  \n",
            "     |  args\n",
            "    \n",
            "    class IllegalWeekdayError(builtins.ValueError)\n",
            "     |  IllegalWeekdayError(weekday)\n",
            "     |  \n",
            "     |  Method resolution order:\n",
            "     |      IllegalWeekdayError\n",
            "     |      builtins.ValueError\n",
            "     |      builtins.Exception\n",
            "     |      builtins.BaseException\n",
            "     |      builtins.object\n",
            "     |  \n",
            "     |  Methods defined here:\n",
            "     |  \n",
            "     |  __init__(self, weekday)\n",
            "     |      Initialize self.  See help(type(self)) for accurate signature.\n",
            "     |  \n",
            "     |  __str__(self)\n",
            "     |      Return str(self).\n",
            "     |  \n",
            "     |  ----------------------------------------------------------------------\n",
            "     |  Data descriptors defined here:\n",
            "     |  \n",
            "     |  __weakref__\n",
            "     |      list of weak references to the object (if defined)\n",
            "     |  \n",
            "     |  ----------------------------------------------------------------------\n",
            "     |  Static methods inherited from builtins.ValueError:\n",
            "     |  \n",
            "     |  __new__(*args, **kwargs) from builtins.type\n",
            "     |      Create and return a new object.  See help(type) for accurate signature.\n",
            "     |  \n",
            "     |  ----------------------------------------------------------------------\n",
            "     |  Methods inherited from builtins.BaseException:\n",
            "     |  \n",
            "     |  __delattr__(self, name, /)\n",
            "     |      Implement delattr(self, name).\n",
            "     |  \n",
            "     |  __getattribute__(self, name, /)\n",
            "     |      Return getattr(self, name).\n",
            "     |  \n",
            "     |  __reduce__(...)\n",
            "     |      Helper for pickle.\n",
            "     |  \n",
            "     |  __repr__(self, /)\n",
            "     |      Return repr(self).\n",
            "     |  \n",
            "     |  __setattr__(self, name, value, /)\n",
            "     |      Implement setattr(self, name, value).\n",
            "     |  \n",
            "     |  __setstate__(...)\n",
            "     |  \n",
            "     |  with_traceback(...)\n",
            "     |      Exception.with_traceback(tb) --\n",
            "     |      set self.__traceback__ to tb and return self.\n",
            "     |  \n",
            "     |  ----------------------------------------------------------------------\n",
            "     |  Data descriptors inherited from builtins.BaseException:\n",
            "     |  \n",
            "     |  __cause__\n",
            "     |      exception cause\n",
            "     |  \n",
            "     |  __context__\n",
            "     |      exception context\n",
            "     |  \n",
            "     |  __dict__\n",
            "     |  \n",
            "     |  __suppress_context__\n",
            "     |  \n",
            "     |  __traceback__\n",
            "     |  \n",
            "     |  args\n",
            "    \n",
            "    class LocaleHTMLCalendar(HTMLCalendar)\n",
            "     |  LocaleHTMLCalendar(firstweekday=0, locale=None)\n",
            "     |  \n",
            "     |  This class can be passed a locale name in the constructor and will return\n",
            "     |  month and weekday names in the specified locale. If this locale includes\n",
            "     |  an encoding all strings containing month and weekday names will be returned\n",
            "     |  as unicode.\n",
            "     |  \n",
            "     |  Method resolution order:\n",
            "     |      LocaleHTMLCalendar\n",
            "     |      HTMLCalendar\n",
            "     |      Calendar\n",
            "     |      builtins.object\n",
            "     |  \n",
            "     |  Methods defined here:\n",
            "     |  \n",
            "     |  __init__(self, firstweekday=0, locale=None)\n",
            "     |      Initialize self.  See help(type(self)) for accurate signature.\n",
            "     |  \n",
            "     |  formatmonthname(self, theyear, themonth, withyear=True)\n",
            "     |      Return a month name as a table row.\n",
            "     |  \n",
            "     |  formatweekday(self, day)\n",
            "     |      Return a weekday name as a table header.\n",
            "     |  \n",
            "     |  ----------------------------------------------------------------------\n",
            "     |  Methods inherited from HTMLCalendar:\n",
            "     |  \n",
            "     |  formatday(self, day, weekday)\n",
            "     |      Return a day as a table cell.\n",
            "     |  \n",
            "     |  formatmonth(self, theyear, themonth, withyear=True)\n",
            "     |      Return a formatted month as a table.\n",
            "     |  \n",
            "     |  formatweek(self, theweek)\n",
            "     |      Return a complete week as a table row.\n",
            "     |  \n",
            "     |  formatweekheader(self)\n",
            "     |      Return a header for a week as a table row.\n",
            "     |  \n",
            "     |  formatyear(self, theyear, width=3)\n",
            "     |      Return a formatted year as a table of tables.\n",
            "     |  \n",
            "     |  formatyearpage(self, theyear, width=3, css='calendar.css', encoding=None)\n",
            "     |      Return a formatted year as a complete HTML page.\n",
            "     |  \n",
            "     |  ----------------------------------------------------------------------\n",
            "     |  Data and other attributes inherited from HTMLCalendar:\n",
            "     |  \n",
            "     |  cssclass_month = 'month'\n",
            "     |  \n",
            "     |  cssclass_month_head = 'month'\n",
            "     |  \n",
            "     |  cssclass_noday = 'noday'\n",
            "     |  \n",
            "     |  cssclass_year = 'year'\n",
            "     |  \n",
            "     |  cssclass_year_head = 'year'\n",
            "     |  \n",
            "     |  cssclasses = ['mon', 'tue', 'wed', 'thu', 'fri', 'sat', 'sun']\n",
            "     |  \n",
            "     |  cssclasses_weekday_head = ['mon', 'tue', 'wed', 'thu', 'fri', 'sat', '...\n",
            "     |  \n",
            "     |  ----------------------------------------------------------------------\n",
            "     |  Methods inherited from Calendar:\n",
            "     |  \n",
            "     |  getfirstweekday(self)\n",
            "     |  \n",
            "     |  itermonthdates(self, year, month)\n",
            "     |      Return an iterator for one month. The iterator will yield datetime.date\n",
            "     |      values and will always iterate through complete weeks, so it will yield\n",
            "     |      dates outside the specified month.\n",
            "     |  \n",
            "     |  itermonthdays(self, year, month)\n",
            "     |      Like itermonthdates(), but will yield day numbers. For days outside\n",
            "     |      the specified month the day number is 0.\n",
            "     |  \n",
            "     |  itermonthdays2(self, year, month)\n",
            "     |      Like itermonthdates(), but will yield (day number, weekday number)\n",
            "     |      tuples. For days outside the specified month the day number is 0.\n",
            "     |  \n",
            "     |  itermonthdays3(self, year, month)\n",
            "     |      Like itermonthdates(), but will yield (year, month, day) tuples.  Can be\n",
            "     |      used for dates outside of datetime.date range.\n",
            "     |  \n",
            "     |  itermonthdays4(self, year, month)\n",
            "     |      Like itermonthdates(), but will yield (year, month, day, day_of_week) tuples.\n",
            "     |      Can be used for dates outside of datetime.date range.\n",
            "     |  \n",
            "     |  iterweekdays(self)\n",
            "     |      Return an iterator for one week of weekday numbers starting with the\n",
            "     |      configured first one.\n",
            "     |  \n",
            "     |  monthdatescalendar(self, year, month)\n",
            "     |      Return a matrix (list of lists) representing a month's calendar.\n",
            "     |      Each row represents a week; week entries are datetime.date values.\n",
            "     |  \n",
            "     |  monthdays2calendar(self, year, month)\n",
            "     |      Return a matrix representing a month's calendar.\n",
            "     |      Each row represents a week; week entries are\n",
            "     |      (day number, weekday number) tuples. Day numbers outside this month\n",
            "     |      are zero.\n",
            "     |  \n",
            "     |  monthdayscalendar(self, year, month)\n",
            "     |      Return a matrix representing a month's calendar.\n",
            "     |      Each row represents a week; days outside this month are zero.\n",
            "     |  \n",
            "     |  setfirstweekday(self, firstweekday)\n",
            "     |  \n",
            "     |  yeardatescalendar(self, year, width=3)\n",
            "     |      Return the data for the specified year ready for formatting. The return\n",
            "     |      value is a list of month rows. Each month row contains up to width months.\n",
            "     |      Each month contains between 4 and 6 weeks and each week contains 1-7\n",
            "     |      days. Days are datetime.date objects.\n",
            "     |  \n",
            "     |  yeardays2calendar(self, year, width=3)\n",
            "     |      Return the data for the specified year ready for formatting (similar to\n",
            "     |      yeardatescalendar()). Entries in the week lists are\n",
            "     |      (day number, weekday number) tuples. Day numbers outside this month are\n",
            "     |      zero.\n",
            "     |  \n",
            "     |  yeardayscalendar(self, year, width=3)\n",
            "     |      Return the data for the specified year ready for formatting (similar to\n",
            "     |      yeardatescalendar()). Entries in the week lists are day numbers.\n",
            "     |      Day numbers outside this month are zero.\n",
            "     |  \n",
            "     |  ----------------------------------------------------------------------\n",
            "     |  Data descriptors inherited from Calendar:\n",
            "     |  \n",
            "     |  __dict__\n",
            "     |      dictionary for instance variables (if defined)\n",
            "     |  \n",
            "     |  __weakref__\n",
            "     |      list of weak references to the object (if defined)\n",
            "     |  \n",
            "     |  firstweekday\n",
            "    \n",
            "    class LocaleTextCalendar(TextCalendar)\n",
            "     |  LocaleTextCalendar(firstweekday=0, locale=None)\n",
            "     |  \n",
            "     |  This class can be passed a locale name in the constructor and will return\n",
            "     |  month and weekday names in the specified locale. If this locale includes\n",
            "     |  an encoding all strings containing month and weekday names will be returned\n",
            "     |  as unicode.\n",
            "     |  \n",
            "     |  Method resolution order:\n",
            "     |      LocaleTextCalendar\n",
            "     |      TextCalendar\n",
            "     |      Calendar\n",
            "     |      builtins.object\n",
            "     |  \n",
            "     |  Methods defined here:\n",
            "     |  \n",
            "     |  __init__(self, firstweekday=0, locale=None)\n",
            "     |      Initialize self.  See help(type(self)) for accurate signature.\n",
            "     |  \n",
            "     |  formatmonthname(self, theyear, themonth, width, withyear=True)\n",
            "     |      Return a formatted month name.\n",
            "     |  \n",
            "     |  formatweekday(self, day, width)\n",
            "     |      Returns a formatted week day name.\n",
            "     |  \n",
            "     |  ----------------------------------------------------------------------\n",
            "     |  Methods inherited from TextCalendar:\n",
            "     |  \n",
            "     |  formatday(self, day, weekday, width)\n",
            "     |      Returns a formatted day.\n",
            "     |  \n",
            "     |  formatmonth(self, theyear, themonth, w=0, l=0)\n",
            "     |      Return a month's calendar string (multi-line).\n",
            "     |  \n",
            "     |  formatweek(self, theweek, width)\n",
            "     |      Returns a single week in a string (no newline).\n",
            "     |  \n",
            "     |  formatweekheader(self, width)\n",
            "     |      Return a header for a week.\n",
            "     |  \n",
            "     |  formatyear(self, theyear, w=2, l=1, c=6, m=3)\n",
            "     |      Returns a year's calendar as a multi-line string.\n",
            "     |  \n",
            "     |  prmonth(self, theyear, themonth, w=0, l=0)\n",
            "     |      Print a month's calendar.\n",
            "     |  \n",
            "     |  prweek(self, theweek, width)\n",
            "     |      Print a single week (no newline).\n",
            "     |  \n",
            "     |  pryear(self, theyear, w=0, l=0, c=6, m=3)\n",
            "     |      Print a year's calendar.\n",
            "     |  \n",
            "     |  ----------------------------------------------------------------------\n",
            "     |  Methods inherited from Calendar:\n",
            "     |  \n",
            "     |  getfirstweekday(self)\n",
            "     |  \n",
            "     |  itermonthdates(self, year, month)\n",
            "     |      Return an iterator for one month. The iterator will yield datetime.date\n",
            "     |      values and will always iterate through complete weeks, so it will yield\n",
            "     |      dates outside the specified month.\n",
            "     |  \n",
            "     |  itermonthdays(self, year, month)\n",
            "     |      Like itermonthdates(), but will yield day numbers. For days outside\n",
            "     |      the specified month the day number is 0.\n",
            "     |  \n",
            "     |  itermonthdays2(self, year, month)\n",
            "     |      Like itermonthdates(), but will yield (day number, weekday number)\n",
            "     |      tuples. For days outside the specified month the day number is 0.\n",
            "     |  \n",
            "     |  itermonthdays3(self, year, month)\n",
            "     |      Like itermonthdates(), but will yield (year, month, day) tuples.  Can be\n",
            "     |      used for dates outside of datetime.date range.\n",
            "     |  \n",
            "     |  itermonthdays4(self, year, month)\n",
            "     |      Like itermonthdates(), but will yield (year, month, day, day_of_week) tuples.\n",
            "     |      Can be used for dates outside of datetime.date range.\n",
            "     |  \n",
            "     |  iterweekdays(self)\n",
            "     |      Return an iterator for one week of weekday numbers starting with the\n",
            "     |      configured first one.\n",
            "     |  \n",
            "     |  monthdatescalendar(self, year, month)\n",
            "     |      Return a matrix (list of lists) representing a month's calendar.\n",
            "     |      Each row represents a week; week entries are datetime.date values.\n",
            "     |  \n",
            "     |  monthdays2calendar(self, year, month)\n",
            "     |      Return a matrix representing a month's calendar.\n",
            "     |      Each row represents a week; week entries are\n",
            "     |      (day number, weekday number) tuples. Day numbers outside this month\n",
            "     |      are zero.\n",
            "     |  \n",
            "     |  monthdayscalendar(self, year, month)\n",
            "     |      Return a matrix representing a month's calendar.\n",
            "     |      Each row represents a week; days outside this month are zero.\n",
            "     |  \n",
            "     |  setfirstweekday(self, firstweekday)\n",
            "     |  \n",
            "     |  yeardatescalendar(self, year, width=3)\n",
            "     |      Return the data for the specified year ready for formatting. The return\n",
            "     |      value is a list of month rows. Each month row contains up to width months.\n",
            "     |      Each month contains between 4 and 6 weeks and each week contains 1-7\n",
            "     |      days. Days are datetime.date objects.\n",
            "     |  \n",
            "     |  yeardays2calendar(self, year, width=3)\n",
            "     |      Return the data for the specified year ready for formatting (similar to\n",
            "     |      yeardatescalendar()). Entries in the week lists are\n",
            "     |      (day number, weekday number) tuples. Day numbers outside this month are\n",
            "     |      zero.\n",
            "     |  \n",
            "     |  yeardayscalendar(self, year, width=3)\n",
            "     |      Return the data for the specified year ready for formatting (similar to\n",
            "     |      yeardatescalendar()). Entries in the week lists are day numbers.\n",
            "     |      Day numbers outside this month are zero.\n",
            "     |  \n",
            "     |  ----------------------------------------------------------------------\n",
            "     |  Data descriptors inherited from Calendar:\n",
            "     |  \n",
            "     |  __dict__\n",
            "     |      dictionary for instance variables (if defined)\n",
            "     |  \n",
            "     |  __weakref__\n",
            "     |      list of weak references to the object (if defined)\n",
            "     |  \n",
            "     |  firstweekday\n",
            "    \n",
            "    class TextCalendar(Calendar)\n",
            "     |  TextCalendar(firstweekday=0)\n",
            "     |  \n",
            "     |  Subclass of Calendar that outputs a calendar as a simple plain text\n",
            "     |  similar to the UNIX program cal.\n",
            "     |  \n",
            "     |  Method resolution order:\n",
            "     |      TextCalendar\n",
            "     |      Calendar\n",
            "     |      builtins.object\n",
            "     |  \n",
            "     |  Methods defined here:\n",
            "     |  \n",
            "     |  formatday(self, day, weekday, width)\n",
            "     |      Returns a formatted day.\n",
            "     |  \n",
            "     |  formatmonth(self, theyear, themonth, w=0, l=0)\n",
            "     |      Return a month's calendar string (multi-line).\n",
            "     |  \n",
            "     |  formatmonthname(self, theyear, themonth, width, withyear=True)\n",
            "     |      Return a formatted month name.\n",
            "     |  \n",
            "     |  formatweek(self, theweek, width)\n",
            "     |      Returns a single week in a string (no newline).\n",
            "     |  \n",
            "     |  formatweekday(self, day, width)\n",
            "     |      Returns a formatted week day name.\n",
            "     |  \n",
            "     |  formatweekheader(self, width)\n",
            "     |      Return a header for a week.\n",
            "     |  \n",
            "     |  formatyear(self, theyear, w=2, l=1, c=6, m=3)\n",
            "     |      Returns a year's calendar as a multi-line string.\n",
            "     |  \n",
            "     |  prmonth(self, theyear, themonth, w=0, l=0)\n",
            "     |      Print a month's calendar.\n",
            "     |  \n",
            "     |  prweek(self, theweek, width)\n",
            "     |      Print a single week (no newline).\n",
            "     |  \n",
            "     |  pryear(self, theyear, w=0, l=0, c=6, m=3)\n",
            "     |      Print a year's calendar.\n",
            "     |  \n",
            "     |  ----------------------------------------------------------------------\n",
            "     |  Methods inherited from Calendar:\n",
            "     |  \n",
            "     |  __init__(self, firstweekday=0)\n",
            "     |      Initialize self.  See help(type(self)) for accurate signature.\n",
            "     |  \n",
            "     |  getfirstweekday(self)\n",
            "     |  \n",
            "     |  itermonthdates(self, year, month)\n",
            "     |      Return an iterator for one month. The iterator will yield datetime.date\n",
            "     |      values and will always iterate through complete weeks, so it will yield\n",
            "     |      dates outside the specified month.\n",
            "     |  \n",
            "     |  itermonthdays(self, year, month)\n",
            "     |      Like itermonthdates(), but will yield day numbers. For days outside\n",
            "     |      the specified month the day number is 0.\n",
            "     |  \n",
            "     |  itermonthdays2(self, year, month)\n",
            "     |      Like itermonthdates(), but will yield (day number, weekday number)\n",
            "     |      tuples. For days outside the specified month the day number is 0.\n",
            "     |  \n",
            "     |  itermonthdays3(self, year, month)\n",
            "     |      Like itermonthdates(), but will yield (year, month, day) tuples.  Can be\n",
            "     |      used for dates outside of datetime.date range.\n",
            "     |  \n",
            "     |  itermonthdays4(self, year, month)\n",
            "     |      Like itermonthdates(), but will yield (year, month, day, day_of_week) tuples.\n",
            "     |      Can be used for dates outside of datetime.date range.\n",
            "     |  \n",
            "     |  iterweekdays(self)\n",
            "     |      Return an iterator for one week of weekday numbers starting with the\n",
            "     |      configured first one.\n",
            "     |  \n",
            "     |  monthdatescalendar(self, year, month)\n",
            "     |      Return a matrix (list of lists) representing a month's calendar.\n",
            "     |      Each row represents a week; week entries are datetime.date values.\n",
            "     |  \n",
            "     |  monthdays2calendar(self, year, month)\n",
            "     |      Return a matrix representing a month's calendar.\n",
            "     |      Each row represents a week; week entries are\n",
            "     |      (day number, weekday number) tuples. Day numbers outside this month\n",
            "     |      are zero.\n",
            "     |  \n",
            "     |  monthdayscalendar(self, year, month)\n",
            "     |      Return a matrix representing a month's calendar.\n",
            "     |      Each row represents a week; days outside this month are zero.\n",
            "     |  \n",
            "     |  setfirstweekday(self, firstweekday)\n",
            "     |  \n",
            "     |  yeardatescalendar(self, year, width=3)\n",
            "     |      Return the data for the specified year ready for formatting. The return\n",
            "     |      value is a list of month rows. Each month row contains up to width months.\n",
            "     |      Each month contains between 4 and 6 weeks and each week contains 1-7\n",
            "     |      days. Days are datetime.date objects.\n",
            "     |  \n",
            "     |  yeardays2calendar(self, year, width=3)\n",
            "     |      Return the data for the specified year ready for formatting (similar to\n",
            "     |      yeardatescalendar()). Entries in the week lists are\n",
            "     |      (day number, weekday number) tuples. Day numbers outside this month are\n",
            "     |      zero.\n",
            "     |  \n",
            "     |  yeardayscalendar(self, year, width=3)\n",
            "     |      Return the data for the specified year ready for formatting (similar to\n",
            "     |      yeardatescalendar()). Entries in the week lists are day numbers.\n",
            "     |      Day numbers outside this month are zero.\n",
            "     |  \n",
            "     |  ----------------------------------------------------------------------\n",
            "     |  Data descriptors inherited from Calendar:\n",
            "     |  \n",
            "     |  __dict__\n",
            "     |      dictionary for instance variables (if defined)\n",
            "     |  \n",
            "     |  __weakref__\n",
            "     |      list of weak references to the object (if defined)\n",
            "     |  \n",
            "     |  firstweekday\n",
            "\n",
            "FUNCTIONS\n",
            "    calendar = formatyear(theyear, w=2, l=1, c=6, m=3) method of TextCalendar instance\n",
            "        Returns a year's calendar as a multi-line string.\n",
            "    \n",
            "    firstweekday = getfirstweekday() method of TextCalendar instance\n",
            "    \n",
            "    isleap(year)\n",
            "        Return True for leap years, False for non-leap years.\n",
            "    \n",
            "    leapdays(y1, y2)\n",
            "        Return number of leap years in range [y1, y2).\n",
            "        Assume y1 <= y2.\n",
            "    \n",
            "    month = formatmonth(theyear, themonth, w=0, l=0) method of TextCalendar instance\n",
            "        Return a month's calendar string (multi-line).\n",
            "    \n",
            "    monthcalendar = monthdayscalendar(year, month) method of TextCalendar instance\n",
            "        Return a matrix representing a month's calendar.\n",
            "        Each row represents a week; days outside this month are zero.\n",
            "    \n",
            "    monthrange(year, month)\n",
            "        Return weekday (0-6 ~ Mon-Sun) and number of days (28-31) for\n",
            "        year, month.\n",
            "    \n",
            "    prcal = pryear(theyear, w=0, l=0, c=6, m=3) method of TextCalendar instance\n",
            "        Print a year's calendar.\n",
            "    \n",
            "    prmonth(theyear, themonth, w=0, l=0) method of TextCalendar instance\n",
            "        Print a month's calendar.\n",
            "    \n",
            "    setfirstweekday(firstweekday)\n",
            "    \n",
            "    timegm(tuple)\n",
            "        Unrelated but handy function to calculate Unix timestamp from GMT.\n",
            "    \n",
            "    weekday(year, month, day)\n",
            "        Return weekday (0-6 ~ Mon-Sun) for year, month (1-12), day (1-31).\n",
            "    \n",
            "    weekheader = formatweekheader(width) method of TextCalendar instance\n",
            "        Return a header for a week.\n",
            "\n",
            "DATA\n",
            "    FRIDAY = 4\n",
            "    MONDAY = 0\n",
            "    SATURDAY = 5\n",
            "    SUNDAY = 6\n",
            "    THURSDAY = 3\n",
            "    TUESDAY = 1\n",
            "    WEDNESDAY = 2\n",
            "    __all__ = ['IllegalMonthError', 'IllegalWeekdayError', 'setfirstweekda...\n",
            "    day_abbr = <calendar._localized_day object>\n",
            "    day_name = <calendar._localized_day object>\n",
            "    month_abbr = <calendar._localized_month object>\n",
            "    month_name = <calendar._localized_month object>\n",
            "\n",
            "FILE\n",
            "    /usr/lib/python3.10/calendar.py\n",
            "\n",
            "\n"
          ]
        }
      ],
      "source": [
        "#check calendar module for attributes that gives number of days in a month\n",
        "# import calendar\n",
        "help(calendar)\n",
        "\n",
        "# found: \n",
        "# monthrange(year, month)\n",
        "        # Return weekday (0-6 ~ Mon-Sun) and number of days (28-31) for year, month."
      ]
    },
    {
      "cell_type": "code",
      "execution_count": 32,
      "metadata": {
        "id": "uyz_9HC9y4XT"
      },
      "outputs": [
        {
          "data": {
            "text/plain": [
              "225.0"
            ]
          },
          "execution_count": 32,
          "metadata": {},
          "output_type": "execute_result"
        }
      ],
      "source": [
        "# Challenge 2\n",
        "# In a particular company, taxi fares consist of a base fare of Ksh.200, \n",
        "# plus Ksh.25 for every 140 meters traveled. \n",
        "# Write a function that takes the distance traveled (in kilometers) \n",
        "# as its only parameter and returns the total fare as its only result.\n",
        "#\n",
        "\n",
        "kilometres = float(input(\"Enter kilometres travelled: \"))\n",
        "\n",
        "def taxi_fare(kilometres):\n",
        "    base = 200\n",
        "    metres = kilometres * 1000\n",
        "    total = base + ((metres/140) * 25)\n",
        "    return total\n",
        "\n",
        "taxi_fare(kilometres)"
      ]
    },
    {
      "cell_type": "code",
      "execution_count": 46,
      "metadata": {
        "id": "a93DEIfI1Xkc"
      },
      "outputs": [
        {
          "data": {
            "text/plain": [
              "58.0"
            ]
          },
          "execution_count": 46,
          "metadata": {},
          "output_type": "execute_result"
        }
      ],
      "source": [
        "# Challenge 3\n",
        "# A particular cell phone plan includes 20 minutes of air time and 20 text messages \n",
        "# for Ksh. 50.00 a month. Each additional minute of air time costs Ksh. 3.00, \n",
        "# while additional text messages cost Ksh. 2.00 each. \n",
        "# The entire bill (including the 999 charge) is subject to 16 percent VAT tax.\n",
        "# Write a program that reads the number of minutes and text messages used in a month from the user. \n",
        "# Display the base charge, additional minutes charge (if any), \n",
        "# additional text message charge (if any), tax and total bill amount. \n",
        "# Only display the additional minute and text message charges if the user incurred costs in these categories. \n",
        "# Ensure that all of the charges are displayed using 2 decimal places.\n",
        "#\n",
        "\n",
        "minutes = int(input('Enter number of minutes: '))\n",
        "texts = int(input('Enter number of texts: '))\n",
        "\n",
        "def phonebill(minutes, texts):\n",
        "    base_amount = 50\n",
        "\n",
        "    if minutes > 20 or texts > 20:\n",
        "        total = 50 + ((minutes - 20) * 3) + ((texts - 20) * 2)\n",
        "        final_total = 1.16 * total\n",
        "        return round(final_total, 2)\n",
        "    else:\n",
        "        return round((1.16 * base_amount), 2)\n",
        "        \n",
        "phonebill(minutes, texts)"
      ]
    }
  ],
  "metadata": {
    "colab": {
      "collapsed_sections": [
        "qbHky4L6u0GF",
        "4id48OhWr7L2",
        "51m8VyKYs_e3",
        "-yVfw__Bu4Sl",
        "ArRLPeQ0zTD7",
        "zpJ7dsVWyURZ",
        "qmwPuSsPyqff"
      ],
      "provenance": [],
      "toc_visible": true
    },
    "kernelspec": {
      "display_name": "Python 3 (ipykernel)",
      "language": "python",
      "name": "python3"
    },
    "language_info": {
      "codemirror_mode": {
        "name": "ipython",
        "version": 3
      },
      "file_extension": ".py",
      "mimetype": "text/x-python",
      "name": "python",
      "nbconvert_exporter": "python",
      "pygments_lexer": "ipython3",
      "version": "3.10.12"
    }
  },
  "nbformat": 4,
  "nbformat_minor": 0
}
