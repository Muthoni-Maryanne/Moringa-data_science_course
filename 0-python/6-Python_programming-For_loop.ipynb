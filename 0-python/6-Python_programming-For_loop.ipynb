{
  "cells": [
    {
      "cell_type": "markdown",
      "metadata": {
        "id": "jruAPRDjs09-"
      },
      "source": [
        "<font color=\"green\">*To start working on this notebook, or any other notebook that we will use in this course, we will need to save our own copy of it. We can do this by clicking File > Save a Copy in Drive. We will then be able to make edits to our own copy of this notebook.*</font>"
      ]
    },
    {
      "cell_type": "markdown",
      "metadata": {
        "id": "0hkJ3D_I8PHe"
      },
      "source": [
        "# Python Programming: For Loops "
      ]
    },
    {
      "cell_type": "markdown",
      "metadata": {
        "id": "i2g_QFDd8RuT"
      },
      "source": [
        "## 1.0 Overview"
      ]
    },
    {
      "cell_type": "code",
      "execution_count": 2,
      "metadata": {
        "id": "PV7t7NG4IWgl"
      },
      "outputs": [
        {
          "name": "stdout",
          "output_type": "stream",
          "text": [
            "['Victor Wanyama', 'Michael Olunga', 'McDonald Mariga']\n",
            "Victor Wanyama\n",
            "Michael Olunga\n",
            "McDonald Mariga\n"
          ]
        }
      ],
      "source": [
        "# Example 1\n",
        "# For loops are used to iterate over a sequence (i.e. list, dictionary, string etc.) \n",
        "# then perform some action.\n",
        "# In this example, we will start to learn about for loops by iterating through a python list\n",
        "# We will define this list as kenyan_football_players\n",
        "#\n",
        "\n",
        "# Defining our python list\n",
        "\n",
        "kenyan_football_players = [\"Victor Wanyama\", \"Michael Olunga\", \"McDonald Mariga\"]\n",
        "\n",
        "# printing the list out\n",
        "print(kenyan_football_players)\n",
        "\n",
        "# then using a for loop to iterate through the list\n",
        "for x in kenyan_football_players:\n",
        "    print(x)\n",
        "\n",
        "# Let's look at what the above line of code does...\n",
        "# The for loop goes inside the kenyan_football_players list, picks up the first element (which is Victor Wanyama), it then stores it in a temporary variable x. Once stored, it then prints out the value inside the variable x.\n",
        "# After printing the value of x, it goes in the list again and picks the second element(this time it's Michael Olunga), it stores this element inside the variable x again but this  time it replaces the value of x that was stored the first time. After storing the new value of x, it goes ahead and print the new value of x.\n",
        "# It repeats this process until all the elements in the list are printed out.\n",
        "# The process of going through each element in a list is called iteration.\n",
        "# Note: The x in the for loop, is only a temporary variable and you can name it anything you like (you are not limited to only using x).\n",
        "# Please take note of the print statement in the above lines of code. You'll notice that its indented. This tells python that that line of code is inside the for loop hence its the body of the loop. What this means is that it should be executed every time the loop iterates through the list. \n",
        "# If we were to remove the indentation, then it would mean that the print statement is outside the for loop hence the loop would do nothing once it iterates through the list. Once we run the code it would display an error.\n"
      ]
    },
    {
      "cell_type": "code",
      "execution_count": 2,
      "metadata": {
        "id": "EE4JTNUQbPGg"
      },
      "outputs": [
        {
          "name": "stdout",
          "output_type": "stream",
          "text": [
            "['bananas', 'grapes', 'mangoes']\n",
            "bananas\n",
            "grapes\n",
            "mangoes\n"
          ]
        }
      ],
      "source": [
        "# Example 2\n",
        "# We can also create and iterate over a list called fruits\n",
        "# from our learnings above\n",
        "\n",
        "# Creating our python list\n",
        "fruits = [\"bananas\", \"grapes\", \"mangoes\"]\n",
        "\n",
        "# printing the list out\n",
        "print(fruits)\n",
        "\n",
        "# Use a for loop to iterate through the fruits list and print out each element in the list.\n",
        "for fruit in fruits:\n",
        "    print(fruit)"
      ]
    },
    {
      "cell_type": "code",
      "execution_count": 3,
      "metadata": {
        "id": "wZxd3taRIXFU"
      },
      "outputs": [
        {
          "name": "stdout",
          "output_type": "stream",
          "text": [
            "Name\n",
            "Students\n",
            "Wing\n",
            "****************************************************\n",
            "Name : 7 East\n",
            "Students : 27\n",
            "Wing : East\n"
          ]
        }
      ],
      "source": [
        "# Example 3\n",
        "# Let's now create a dictionary and iterate over it\n",
        "# Looping through a dictionary is slightly different from looping through a list. This is because a dictionary is comprised of key-value pairs.\n",
        "# There are several ways of looping through a dictionary. We will only look at a couple of them here\n",
        "\n",
        "# Creating our dictionary\n",
        "our_class = {\n",
        "    'Name': '7 East', \n",
        "    'Students': 27, \n",
        "    'Wing': 'East'\n",
        "}\n",
        "\n",
        "\n",
        "\n",
        "# Looping through keys only\n",
        "for x in our_class:\n",
        "  print(x)\n",
        "\n",
        "# This way of looping through a dictionary will only output the dictionary keys only. But what if we wanted to display the key value pair?\n",
        "print(\"****************************************************\") # separating the two ways of looping\n",
        "# To be able to achieve this, we are going to make us of a python's dictionary in-built function .items(). This function will allow us to access the key-value pair at the same time.\n",
        "\n",
        "for x,y in our_class.items():\n",
        "  print(x,\":\", y)\n",
        "\n",
        "# In the above lines of code, we are creating two temporary variables,x and y, where x is used to store the key element and y stores the value element. Then printing out the key-value pair of each dictionary elements.\n",
        "# You can read more on how to loop through dictionaries here: https://realpython.com/iterate-through-dictionary-python/\n"
      ]
    },
    {
      "cell_type": "markdown",
      "metadata": {
        "id": "IRmR3mRBebVj"
      },
      "source": [
        "### <font color=\"green\">1.0 Challenges </font>"
      ]
    },
    {
      "cell_type": "code",
      "execution_count": 4,
      "metadata": {
        "id": "eHTjJGKZegoA"
      },
      "outputs": [
        {
          "name": "stdout",
          "output_type": "stream",
          "text": [
            "Safaricom PLC : 146.48\n",
            "KCB : 44.11\n",
            "National Bank : 25.54\n"
          ]
        }
      ],
      "source": [
        "# Challenge 1\n",
        "# Given the dictionary below, use a for loop to iterate over it\n",
        "#\n",
        "\n",
        "# Creating our dictionary\n",
        "stocks = {\n",
        "    'Safaricom PLC': 146.48,\n",
        "    'KCB':44.11,\n",
        "    'National Bank':25.54\n",
        "}\n",
        "\n",
        "for k, v in stocks.items():\n",
        "    print(k, \":\", v)"
      ]
    },
    {
      "cell_type": "code",
      "execution_count": 6,
      "metadata": {
        "id": "X55AFs1Yehd3"
      },
      "outputs": [
        {
          "name": "stdout",
          "output_type": "stream",
          "text": [
            "name : Kevin\n",
            "food : Chappati\n",
            "name : Ruth\n",
            "food : Pilau\n"
          ]
        }
      ],
      "source": [
        "# Challenge 2\n",
        "# Iterate over a list of dictionaries using a for loop\n",
        "#\n",
        "\n",
        "# Creating our list\n",
        "values = [{\"name\": \"Kevin\", \"food\": \"Chappati\"}, {\"name\": \"Ruth\", \"food\": \"Pilau\"}]\n",
        "\n",
        "for value in values:\n",
        "    for k, v in value.items():\n",
        "        print(k, \":\", v)"
      ]
    },
    {
      "cell_type": "code",
      "execution_count": 2,
      "metadata": {
        "id": "2Hd9i56gehQ7"
      },
      "outputs": [
        {
          "name": "stdout",
          "output_type": "stream",
          "text": [
            "{1: 15}\n",
            "{1: 15, 2: 30}\n",
            "{1: 15, 2: 30, 3: 28}\n",
            "{1: 15, 2: 30, 3: 28, 4: 39}\n",
            "{1: 15, 2: 30, 3: 28, 4: 39, 5: 24}\n",
            "27.2\n"
          ]
        }
      ],
      "source": [
        "# Challenge 3 \n",
        "# Write a program that stores the values in a dictionary and \n",
        "# finds the average of values entered by a user. \n",
        "# The user will enter 0 to indicate that no further values will be provided. \n",
        "# \n",
        "\n",
        "\n",
        "user_input = dict()\n",
        "key = 1\n",
        "sum = 0\n",
        "count = 0\n",
        "\n",
        "while True:\n",
        "    x = int(input(\"Enter a number(0 to quit): \"))\n",
        "    if x == 0:\n",
        "        break\n",
        "    user_input[key] = x\n",
        "    print(user_input)\n",
        "    key += 1\n",
        "    sum += x\n",
        "    count += 1\n",
        "\n",
        "average = sum / count\n",
        "print(average)"
      ]
    },
    {
      "cell_type": "markdown",
      "metadata": {
        "id": "o2l2ojIRIXs9"
      },
      "source": [
        "## 1.1 Looping Through a String"
      ]
    },
    {
      "cell_type": "code",
      "execution_count": 3,
      "metadata": {
        "id": "G9Y85nvWMIpK"
      },
      "outputs": [
        {
          "name": "stdout",
          "output_type": "stream",
          "text": [
            "m\n",
            "o\n",
            "r\n",
            "i\n",
            "n\n",
            "g\n",
            "a\n"
          ]
        }
      ],
      "source": [
        "# Example 1\n",
        "# For loops can also used for iterating over a string as shown; \n",
        "# Iterating through the string \"moringa\"\n",
        "# The logic behind it is pretty much the same as that of looping through lists.\n",
        "\n",
        "for y in \"moringa\":\n",
        "  print(y)"
      ]
    },
    {
      "cell_type": "code",
      "execution_count": 4,
      "metadata": {
        "id": "2l8qKnW1MJUH"
      },
      "outputs": [
        {
          "name": "stdout",
          "output_type": "stream",
          "text": [
            "O\n",
            "U\n",
            "R\n",
            " \n",
            "C\n",
            "O\n",
            "D\n",
            "E\n",
            " \n",
            "G\n",
            "O\n",
            "E\n",
            "S\n",
            " \n",
            "H\n",
            "E\n",
            "R\n",
            "E\n"
          ]
        }
      ],
      "source": [
        "# Example 2\n",
        "# Lets iterate through your name below.\n",
        "# Replace OUR CODE GOES HERE with you name;\n",
        "#\n",
        "\n",
        "for y in \"OUR CODE GOES HERE\":\n",
        "  print(y)"
      ]
    },
    {
      "cell_type": "code",
      "execution_count": 5,
      "metadata": {
        "id": "m29pJWEgqTqz"
      },
      "outputs": [
        {
          "name": "stdout",
          "output_type": "stream",
          "text": [
            "H\n",
            "e\n",
            "l\n",
            "l\n",
            "o\n",
            " \n",
            "e\n",
            "v\n",
            "e\n",
            "r\n",
            "y\n",
            "o\n",
            "n\n",
            "e\n",
            "!\n"
          ]
        }
      ],
      "source": [
        "# Example 3\n",
        "# Iterate through the following string\n",
        "# \n",
        "\n",
        "greetings = \"Hello everyone!\"\n",
        "\n",
        "for g in greetings:\n",
        "    print(g)"
      ]
    },
    {
      "cell_type": "markdown",
      "metadata": {
        "id": "aoHtqtjuabCr"
      },
      "source": [
        "### <font color=\"green\">1.1 Challenges</font>"
      ]
    },
    {
      "cell_type": "code",
      "execution_count": 6,
      "metadata": {
        "id": "Dd1_N4MRad_Q"
      },
      "outputs": [
        {
          "name": "stdout",
          "output_type": "stream",
          "text": [
            "N\n",
            "a\n",
            "i\n",
            "r\n",
            "o\n",
            "b\n",
            "i\n"
          ]
        }
      ],
      "source": [
        "# Challenge 1\n",
        "# Iterate through the string \"Nairobi\"\n",
        "#\n",
        "for n in \"Nairobi\":\n",
        "    print(n)"
      ]
    },
    {
      "cell_type": "code",
      "execution_count": 7,
      "metadata": {
        "id": "DqQMoboYaelF"
      },
      "outputs": [
        {
          "name": "stdout",
          "output_type": "stream",
          "text": [
            "b\n",
            "a\n",
            "n\n",
            "a\n",
            "n\n",
            "a\n"
          ]
        }
      ],
      "source": [
        "# Challenge 2\n",
        "# Print out the characters that make up the value of fruit as shown\n",
        "#\n",
        "\n",
        "fruit = 'banana'\n",
        "\n",
        "for f in fruit:\n",
        "    print(f)"
      ]
    },
    {
      "cell_type": "code",
      "execution_count": 11,
      "metadata": {
        "id": "USWaUrYuaePF"
      },
      "outputs": [
        {
          "name": "stdout",
          "output_type": "stream",
          "text": [
            "The letter b has occured 3 times in your string\n"
          ]
        }
      ],
      "source": [
        "# Challenge 3\n",
        "# A user is prompted to provide a string (i.e. single or multiple strings) by the program.\n",
        "# Create a program that tell us the number of times the letter \"b\" appears in the user inut. Upon determination the program should display the number of times the letter appears in the user input.\n",
        "# For example, if the user inputs the string bubbles. The program should output a message like; The letter b has occured 3 times in your string. \n",
        "# \n",
        "# Hint: you will be required to use for loops and your knowledge of conditional statements to achieve the desired output.\n",
        "#\n",
        "\n",
        "string = input(\"Enter a string: \")\n",
        "b_count = 0\n",
        "\n",
        "for letter in string:\n",
        "    if letter == 'b' or letter == 'B':\n",
        "        b_count += 1\n",
        "\n",
        "print(\"The letter b has occured\", b_count, \"times in your string\")"
      ]
    },
    {
      "cell_type": "markdown",
      "metadata": {
        "id": "bJSuEO5NKzC6"
      },
      "source": [
        "## 1.2 The Break Statement"
      ]
    },
    {
      "cell_type": "code",
      "execution_count": 12,
      "metadata": {
        "id": "IZR7OhHqhsZg"
      },
      "outputs": [
        {
          "name": "stdout",
          "output_type": "stream",
          "text": [
            "bananas\n",
            "grapes\n"
          ]
        }
      ],
      "source": [
        "# Example 1\n",
        "# We can use the break statement to stop the loop before it continues iterating though all items;\n",
        "# Using the fruits list we can stop the loop \n",
        "# before it continues iterating through all items by\n",
        "#\n",
        "\n",
        "fruits = [\"bananas\", \"grapes\", \"mangoes\"]\n",
        "\n",
        "for x in fruits:\n",
        "  print(x) \n",
        "  if x == \"grapes\":\n",
        "    break"
      ]
    },
    {
      "cell_type": "code",
      "execution_count": 13,
      "metadata": {
        "id": "u-iOIUarhsK-"
      },
      "outputs": [
        {
          "name": "stdout",
          "output_type": "stream",
          "text": [
            "M\n",
            "o\n",
            "r\n",
            "The end\n"
          ]
        }
      ],
      "source": [
        "# Example 2\n",
        "# We can also use the break statement during the iteration of a string a shown\n",
        "# \n",
        "\n",
        "for val in \"Moringa School\":\n",
        "    if val == \"i\":\n",
        "        break\n",
        "    print(val)\n",
        "print(\"The end\")"
      ]
    },
    {
      "cell_type": "code",
      "execution_count": 11,
      "metadata": {
        "id": "HS0WkfrChrsH"
      },
      "outputs": [
        {
          "name": "stdout",
          "output_type": "stream",
          "text": [
            "21\n",
            "29\n",
            "98\n",
            "The number 98 is found\n"
          ]
        }
      ],
      "source": [
        "# Example 3\n",
        "# Iterating through a string and breaking whenever the no. 98 is found\n",
        "# \n",
        "for num in [21, 29, 98, 20, 100, 13, 29]: \n",
        "   print(num)\n",
        "   if(num == 98):\n",
        "      print(\"The number 98 is found\")\n",
        "      break\n",
        "      "
      ]
    },
    {
      "cell_type": "markdown",
      "metadata": {
        "id": "riie22W5fAPp"
      },
      "source": [
        "### <font color=\"green\">1.2 Challenges</font>"
      ]
    },
    {
      "cell_type": "code",
      "execution_count": 16,
      "metadata": {
        "id": "6RX6Fo4OfJrr"
      },
      "outputs": [
        {
          "name": "stdout",
          "output_type": "stream",
          "text": [
            "['Victor Wanyama', 'Michael Olunga', 'McDonald Mariga']\n",
            "Victor Wanyama\n",
            "Michael Olunga\n"
          ]
        }
      ],
      "source": [
        "# Challenge 1 \n",
        "# Using the kenyan_football_players dictionary let's stop the loop \n",
        "# before it continues iterating through all items\n",
        "# \n",
        "print(kenyan_football_players)\n",
        "for footballer in kenyan_football_players:\n",
        "    if footballer == 'McDonald Mariga':\n",
        "        break\n",
        "    print(footballer)\n"
      ]
    },
    {
      "cell_type": "code",
      "execution_count": 21,
      "metadata": {
        "id": "1n5WSzLVfJUS"
      },
      "outputs": [
        {
          "name": "stdout",
          "output_type": "stream",
          "text": [
            "Sum of first  5 integers is:  15\n"
          ]
        }
      ],
      "source": [
        "# Challenge 2\n",
        "# When you run the following code it should output\n",
        "# \"Sum of first 5 integers is: 15\"\n",
        "# Correct the following for loop and a add a break statement to ensure that the program gives out the correct output\n",
        "#\n",
        "\n",
        "numbers = [1, 2, 3, 4, 5, 6, 7, 8, 9] # Declaring the tuple\n",
        "num_sum = 0\n",
        "count = 0\n",
        "for y in numbers:\n",
        "    num_sum += y\n",
        "    count += 1 \n",
        "    if y == 5:\n",
        "        break\n",
        "        \n",
        "print(\"Sum of first \",count,\"integers is: \", num_sum)"
      ]
    },
    {
      "cell_type": "code",
      "execution_count": 20,
      "metadata": {},
      "outputs": [
        {
          "name": "stdout",
          "output_type": "stream",
          "text": [
            "15\n",
            "5\n"
          ]
        }
      ],
      "source": [
        "numbers = [1, 2, 3, 4, 5, 6, 7, 8, 9] \n",
        "\n",
        "sum = 0\n",
        "count = 0\n",
        "\n",
        "for n in numbers:\n",
        "    if n == 6:\n",
        "        break\n",
        "    sum += n\n",
        "    count +=1\n",
        "\n",
        "print(sum)\n",
        "print(count)\n"
      ]
    },
    {
      "cell_type": "code",
      "execution_count": 11,
      "metadata": {},
      "outputs": [
        {
          "name": "stdout",
          "output_type": "stream",
          "text": [
            "Since you are 2, the cost of your stay is free!\n",
            "Since you are 14, the cost of your stay is Ksh.25,000.\n",
            "Since you are 29, the cost of your stay is Ksh.25,000.\n",
            "Since you are 65, the cost of your stay is Ksh.18,000.\n",
            "Since you are 100, the cost of your stay is Ksh.18,000.\n"
          ]
        }
      ],
      "source": [
        "# Example 3\n",
        "# Sarova Nairobi determines the price of admission based on the age of the guest. \n",
        "# Guests that are 2 years of age or less are admitted without charge. \n",
        "# Children between 3 and 12 years of age are charged Ksh. 15,000 a night. \n",
        "# Seniors aged 65 years and over are charged Ksh. 18,000 a night.\n",
        "# Admission for all other guests is Ksh. 25,000 a night.\n",
        "# Create a program that begins by reading the ages of all of the guests \n",
        "# in a group from the user, with ones age entered on each line. \n",
        "# The user will enter a blank line to indicate that there are no more guests in the group. \n",
        "# Then your program should display the admission cost for the group with an appropriate message. \n",
        "# The cost should be displayed using two decimal places. \n",
        "# NB: You should use a for loop and a break statement in your program.\n",
        "#\n",
        "\n",
        "prompt = \"Enter your age (press Enter without typing to finish): \"\n",
        "\n",
        "while True:\n",
        "    age = input(prompt)\n",
        "    \n",
        "    # Break the loop if the input is empty (user pressed Enter)\n",
        "    if age == '':\n",
        "        break\n",
        "    \n",
        "    try:\n",
        "        age = int(age)  # Convert the input to an integer\n",
        "\n",
        "        if age <= 2:\n",
        "            print(f\"Since you are {age}, the cost of your stay is free!\")\n",
        "        elif age >= 3 and age <= 12:\n",
        "            print(f\"Since you are {age}, the cost of your stay is Ksh.15,000.\")\n",
        "        elif age >= 65:\n",
        "            print(f\"Since you are {age}, the cost of your stay is Ksh.18,000.\")\n",
        "        else:\n",
        "            print(f\"Since you are {age}, the cost of your stay is Ksh.25,000.\")\n",
        "    except ValueError:\n",
        "        print(\"Please enter a valid number for age.\")\n",
        "\n"
      ]
    },
    {
      "cell_type": "markdown",
      "metadata": {
        "id": "c13xlVleK8Dd"
      },
      "source": [
        "## 1.3 The Continue Statement\n"
      ]
    },
    {
      "cell_type": "code",
      "execution_count": 22,
      "metadata": {
        "id": "yyauW4_yurxI"
      },
      "outputs": [
        {
          "name": "stdout",
          "output_type": "stream",
          "text": [
            "dates\n",
            "passion\n"
          ]
        }
      ],
      "source": [
        "# Example 1\n",
        "# Using the continue statement we can stop the current iteration of the loop, \n",
        "# and continue with the next section of our code as shown\n",
        "#\n",
        "\n",
        "fruits = [\"dates\", \"coconut\", \"passion\"]\n",
        "\n",
        "for x in fruits:\n",
        "  if x == \"coconut\":\n",
        "    continue \n",
        "  print(x)"
      ]
    },
    {
      "cell_type": "code",
      "execution_count": 23,
      "metadata": {
        "id": "iSkeKb-Xuv_J"
      },
      "outputs": [
        {
          "name": "stdout",
          "output_type": "stream",
          "text": [
            "M\n",
            "o\n",
            "r\n",
            "n\n",
            "g\n",
            "a\n",
            " \n",
            "S\n",
            "c\n",
            "h\n",
            "o\n",
            "o\n",
            "l\n",
            "The end\n"
          ]
        }
      ],
      "source": [
        "# Example 2\n",
        "# Iterating over a string\n",
        "#\n",
        "\n",
        "for val in \"Moringa School\":\n",
        "    if val == \"i\":\n",
        "        continue\n",
        "    print(val)\n",
        "print(\"The end\")"
      ]
    },
    {
      "cell_type": "code",
      "execution_count": 24,
      "metadata": {
        "id": "GBPps-BAuvz3"
      },
      "outputs": [
        {
          "name": "stdout",
          "output_type": "stream",
          "text": [
            "Checked Phone : doogee\n",
            "Checked Phone : wiko\n",
            "Checked Phone : LG\n",
            "Checked Phone : Panasonic\n",
            "Checked Phone : Sony\n"
          ]
        }
      ],
      "source": [
        "# Example 3\n",
        "# \n",
        "mobile_phone = [\"samsung\", \"doogee\", \"iphone\", \"wiko\", \"LG\", \"Panasonic\", \"Sony\"]\n",
        "\n",
        "for x in mobile_phone:  \n",
        "    if x == 'samsung' or x == 'iphone': \n",
        "         continue\n",
        "    print ('Checked Phone :', x) "
      ]
    },
    {
      "cell_type": "markdown",
      "metadata": {
        "id": "-WNVdamRfNnp"
      },
      "source": [
        "### <font color=\"green\">1.3 Challanges</font>"
      ]
    },
    {
      "cell_type": "code",
      "execution_count": 25,
      "metadata": {
        "id": "wkJ2IECzfTXs"
      },
      "outputs": [
        {
          "name": "stdout",
          "output_type": "stream",
          "text": [
            "January \n",
            "February\n",
            "March\n",
            "April\n",
            "May\n",
            "June\n",
            "September\n",
            "October\n",
            "November\n",
            "December\n"
          ]
        }
      ],
      "source": [
        "# Challenge 1\n",
        "# Make changes to the code below to omit the month of July and August\n",
        "# while displaying the no. of months\n",
        "#\n",
        "\n",
        "months = [\"January \",\"February\",\"March\", \"April\", \"May\", \"June\", \"July\", \"August\", \"September\", \"October\", \"November\", \"December\"]\n",
        "\n",
        "for m in months:\n",
        "\t\tif m == \"July\" or m == \"August\":\n",
        "\t\t\tcontinue\n",
        "\t\tprint(m)\n",
        "    \n"
      ]
    },
    {
      "cell_type": "code",
      "execution_count": 3,
      "metadata": {
        "id": "KtMFjXBY-dfK"
      },
      "outputs": [
        {
          "name": "stdout",
          "output_type": "stream",
          "text": [
            "Thomas\n"
          ]
        }
      ],
      "source": [
        "# Challenge 2\n",
        "# Let's print out a word if it doesn't have the letter \"e\"\n",
        "# Use the continue statement in your program\n",
        "#\n",
        "       \n",
        "names = ['Jane', 'June', 'Thomas']\n",
        "\n",
        "for name in names:\n",
        "    if 'e' in name:\n",
        "        continue\n",
        "    print(name)\n"
      ]
    },
    {
      "cell_type": "code",
      "execution_count": 2,
      "metadata": {},
      "outputs": [
        {
          "name": "stdout",
          "output_type": "stream",
          "text": [
            "J\n",
            "a\n",
            "n\n"
          ]
        }
      ],
      "source": [
        "a = 'Jane'\n",
        "i = 0\n",
        "while i < len(a):\n",
        "        if a[i] == 'e':\n",
        "            continue\n",
        "        print(a[i])\n",
        "        i += 1"
      ]
    },
    {
      "cell_type": "code",
      "execution_count": 30,
      "metadata": {
        "id": "q0l2yI2RfT4v"
      },
      "outputs": [
        {
          "name": "stdout",
          "output_type": "stream",
          "text": [
            "2\n",
            "4\n",
            "6\n",
            "8\n",
            "10\n"
          ]
        }
      ],
      "source": [
        "# Challenge 3\n",
        "# Given the numbers list below, print out the even numbers using the continue statement\n",
        "# Hint: use modulo %\n",
        "# \n",
        "\n",
        "numbers = [1, 2, 3, 4, 5, 6, 7, 8, 9, 10]\n",
        "\n",
        "for n in numbers:\n",
        "    if n % 2 != 0:\n",
        "        continue\n",
        "    print(n)"
      ]
    },
    {
      "cell_type": "markdown",
      "metadata": {
        "id": "m-WluVZoLBie"
      },
      "source": [
        "## 1.4 The Range() Function"
      ]
    },
    {
      "cell_type": "code",
      "execution_count": 31,
      "metadata": {
        "id": "-ku-JJLqvMql"
      },
      "outputs": [
        {
          "name": "stdout",
          "output_type": "stream",
          "text": [
            "0\n",
            "1\n",
            "2\n",
            "3\n",
            "4\n",
            "5\n"
          ]
        }
      ],
      "source": [
        "# Example 1\n",
        "# We iterate through a set of code a specified number of times using the range() function.\n",
        "# Let's create a sequence of numbers from 0 to 5, and print each item in the sequence:\n",
        "# \n",
        "\n",
        "for x in range(6):\n",
        "  print(x)"
      ]
    },
    {
      "cell_type": "code",
      "execution_count": 32,
      "metadata": {
        "id": "OZU30VcZvNEz"
      },
      "outputs": [
        {
          "name": "stdout",
          "output_type": "stream",
          "text": [
            "3\n",
            "4\n",
            "5\n",
            "6\n",
            "7\n",
            "8\n"
          ]
        }
      ],
      "source": [
        "# Example 2\n",
        "# What happens when we have two parameters?\n",
        "# \n",
        "\n",
        "for i in range(3, 9):\n",
        "  print(i)"
      ]
    },
    {
      "cell_type": "code",
      "execution_count": 33,
      "metadata": {
        "id": "zDeGNzOYfnRY"
      },
      "outputs": [
        {
          "name": "stdout",
          "output_type": "stream",
          "text": [
            "1\n",
            "4\n",
            "7\n",
            "10\n",
            "13\n",
            "16\n",
            "19\n"
          ]
        }
      ],
      "source": [
        "# Example 3\n",
        "# What happens when we have three parameters as shown?\n",
        "# \n",
        "\n",
        "for i in range(1, 20, 3):\n",
        "  print(i)"
      ]
    },
    {
      "cell_type": "markdown",
      "metadata": {
        "id": "NRUCsmwqfo0J"
      },
      "source": [
        "### <font color=\"green\">1.4 Challenges</font>"
      ]
    },
    {
      "cell_type": "code",
      "execution_count": 34,
      "metadata": {
        "id": "TZKFNrFCfwGS"
      },
      "outputs": [
        {
          "name": "stdout",
          "output_type": "stream",
          "text": [
            "3\n",
            "8\n",
            "13\n",
            "18\n",
            "23\n",
            "28\n",
            "33\n",
            "38\n",
            "43\n",
            "48\n",
            "53\n",
            "58\n"
          ]
        }
      ],
      "source": [
        "# Challenge 1\n",
        "# Create a sequence of numbers from 3 to 61, but increment by 5:\n",
        "#\n",
        "\n",
        "for i in range(3, 61, 5):\n",
        "    print(i)"
      ]
    },
    {
      "cell_type": "code",
      "execution_count": 37,
      "metadata": {
        "id": "F8rbA9pHfxJ-"
      },
      "outputs": [
        {
          "name": "stdout",
          "output_type": "stream",
          "text": [
            "2\n",
            "4\n",
            "6\n",
            "8\n",
            "10\n",
            "12\n",
            "14\n",
            "16\n",
            "18\n",
            "20\n"
          ]
        }
      ],
      "source": [
        "# Challenge 2\n",
        "# Create a program that prints out the even numbers within\n",
        "# the range of 1 - 20\n",
        "# \n",
        "for j in range(2, 21, 2):\n",
        "    print(j)"
      ]
    },
    {
      "cell_type": "code",
      "execution_count": 38,
      "metadata": {
        "id": "NtPwdcNHfw7a"
      },
      "outputs": [
        {
          "name": "stdout",
          "output_type": "stream",
          "text": [
            "5\n",
            "0\n",
            "-5\n",
            "-10\n",
            "-15\n",
            "-20\n",
            "-25\n",
            "-30\n"
          ]
        }
      ],
      "source": [
        "# Challenge 3\n",
        "# Create a sequence of numbers from 5 to -30, decrementing by 5\n",
        "# the range of 1 - 20\n",
        "#\n",
        "\n",
        "for k in range(5, -31, -5):\n",
        "    print(k)"
      ]
    },
    {
      "cell_type": "markdown",
      "metadata": {
        "id": "pt06jAbBLK7j"
      },
      "source": [
        "## 1.5 Else"
      ]
    },
    {
      "cell_type": "code",
      "execution_count": 39,
      "metadata": {
        "id": "VXM0D76BvgnX"
      },
      "outputs": [
        {
          "name": "stdout",
          "output_type": "stream",
          "text": [
            "0\n",
            "1\n",
            "2\n",
            "3\n",
            "4\n",
            "5\n",
            "Finished!\n"
          ]
        }
      ],
      "source": [
        "# Example 1\n",
        "# When the loop condition of \"for\" or \"while\" statement fails \n",
        "# then code part in \"else\" is executed as shown below\n",
        "#\n",
        "\n",
        "for x in range(6):\n",
        "  print(x)\n",
        "else:\n",
        "  print(\"Finished!\")"
      ]
    },
    {
      "cell_type": "code",
      "execution_count": 40,
      "metadata": {
        "id": "r04iCfO3hOWp"
      },
      "outputs": [
        {
          "name": "stdout",
          "output_type": "stream",
          "text": [
            "You have made 3 incorrect password attempts\n"
          ]
        }
      ],
      "source": [
        "# Example 2\n",
        "# In this example the code in the else block runs only \n",
        "# if the loop completes without encountering a break statement.\n",
        "#\n",
        "\n",
        "for i in range(3):\n",
        "    password = input('Enter your password: ')\n",
        "    if password == 'secret':\n",
        "        print('You have guessed the password!')\n",
        "        break\n",
        "else:\n",
        "    print('You have made 3 incorrect password attempts')"
      ]
    },
    {
      "cell_type": "markdown",
      "metadata": {
        "id": "1ChnVcJNhUmi"
      },
      "source": [
        "### <font color=\"green\">1.5 Challanges</font>"
      ]
    },
    {
      "cell_type": "code",
      "execution_count": 43,
      "metadata": {
        "id": "0ud2urSmhbxq"
      },
      "outputs": [
        {
          "name": "stdout",
          "output_type": "stream",
          "text": [
            "402\n",
            "984\n",
            "360\n",
            "408\n",
            "980\n",
            "544\n",
            "390\n",
            "984\n",
            "592\n",
            "236\n",
            "942\n",
            "386\n",
            "462\n",
            "418\n",
            "344\n",
            "236\n",
            "566\n",
            "978\n",
            "328\n",
            "162\n",
            "758\n",
            "918\n"
          ]
        }
      ],
      "source": [
        "# Challenge 1\n",
        "# Let us iterate through and print out all even numbers from the numbers list below \n",
        "# in the same order they are received. We are not allowed toprint any numbers \n",
        "# that come after 237 in the sequence.\n",
        "# \n",
        "\n",
        "numbers = [ 951, 402, 984, 651, 360, 69, 408, 319, 601, 485, 980, 507, 725, 547, 544,\n",
        "    615, 83, 165, 141, 501, 263, 617, 865, 575, 219, 390, 984, 592, 236, 105, 942, 941,\n",
        "    386, 462, 47, 418, 907, 344, 236, 375, 823, 566, 597, 978, 328, 615, 953, 345,\n",
        "    399, 162, 758, 219, 918, 237, 412, 566, 826, 248, 866, 950, 626, 949, 687, 217,\n",
        "    815, 67, 104, 58, 512, 24, 892, 894, 767, 553, 81, 379, 843, 831, 445, 742, 717,\n",
        "    958, 609, 842, 451, 688, 753, 854, 685, 93, 857, 440, 380, 126, 721, 328, 753, 470,\n",
        "    743, 527\n",
        "]\n",
        "\n",
        "for n in numbers:\n",
        "    if n == 237:\n",
        "        break\n",
        "    if n % 2 != 0:\n",
        "        continue\n",
        "    print(n)\n",
        "    "
      ]
    },
    {
      "cell_type": "code",
      "execution_count": 13,
      "metadata": {
        "id": "1D2wI6Lyhcai"
      },
      "outputs": [],
      "source": [
        "# Challenge 2\n",
        "# Write a program to find whether there is a word with the letter z from the list below\n",
        "#\n",
        "\n",
        "my_list = [\"bawk\", \"bagawk\", \"a\", \"aa\", \"aah\", \"aahed\", \"aahing\", \"aahs\", \"aal\", \"aalii\", \n",
        "           \"aaliis\", \"aals\", \"aardvark\", \"aardvarks\", \"aardwolf\", \"aardwolves\", \"aargh\", \n",
        "           \"aarrgh\", \"aarrghh\", \"aarti\", \"aartis\", \"aas\", \"aasvogel\"]\n",
        "\n",
        "\n",
        "for word in my_list:\n",
        "    if 'z' not in word:\n",
        "        continue\n",
        "    print(word)"
      ]
    },
    {
      "cell_type": "markdown",
      "metadata": {
        "id": "ACouIUA4LUqe"
      },
      "source": [
        "## 1.6 Nested For Loops"
      ]
    },
    {
      "cell_type": "code",
      "execution_count": 51,
      "metadata": {
        "id": "b8pUqp5qvjVV"
      },
      "outputs": [
        {
          "name": "stdout",
          "output_type": "stream",
          "text": [
            "red apple\n",
            "red banana\n",
            "red cherry\n",
            "big apple\n",
            "big banana\n",
            "big cherry\n",
            "tasty apple\n",
            "tasty banana\n",
            "tasty cherry\n"
          ]
        }
      ],
      "source": [
        "# Example 1\n",
        "# You can use a loop inside another loop as shown below \n",
        "#\n",
        "\n",
        "adj = [\"red\", \"big\", \"tasty\"]\n",
        "fruits = [\"apple\", \"banana\", \"cherry\"]\n",
        "\n",
        "for x in adj:\n",
        "  for y in fruits:\n",
        "    print(x, y)"
      ]
    },
    {
      "cell_type": "code",
      "execution_count": 52,
      "metadata": {
        "id": "NvXrjhQPhlhk"
      },
      "outputs": [
        {
          "name": "stdout",
          "output_type": "stream",
          "text": [
            "Monica\n",
            "40\n",
            "Mary\n",
            "15\n",
            "Miriam\n",
            "20\n"
          ]
        }
      ],
      "source": [
        "# Example 2\n",
        "# Iterating over multi dimension list i.e. lists in a list\n",
        "#\n",
        "\n",
        "# Creating a persons list\n",
        "persons = [['Monica', 40], ['Mary', 15], ['Miriam', 20]]\n",
        "  \n",
        "for person in persons: \n",
        "  for value in person: \n",
        "    print(value)"
      ]
    },
    {
      "cell_type": "markdown",
      "metadata": {
        "id": "enm2AB_bhl6P"
      },
      "source": [
        "### <font color=\"green\">1.6 Challenges</font>"
      ]
    },
    {
      "cell_type": "code",
      "execution_count": 54,
      "metadata": {
        "id": "0mfvv99nhsAb"
      },
      "outputs": [
        {
          "name": "stdout",
          "output_type": "stream",
          "text": [
            "1\n",
            "a\n",
            "b\n",
            "c\n",
            "2\n",
            "a\n",
            "b\n",
            "c\n",
            "3\n",
            "a\n",
            "b\n",
            "c\n"
          ]
        }
      ],
      "source": [
        "# Challenge 1\n",
        "# Iterate through the list of integers. In the outer loop, iterate through the numbers_list  \n",
        "# and iterate through strings_list in the inner loop. \n",
        "# printing out 1 a b c 2 a b c 3 a b c\n",
        "#\n",
        "\n",
        "# Creating our lists\n",
        "numbers_list = [1, 2, 3]\n",
        "strings_list = ['a', 'b', 'c']\n",
        "\n",
        "for n in numbers_list:\n",
        "    print(n)\n",
        "    for s in strings_list:\n",
        "        print(s)"
      ]
    },
    {
      "cell_type": "code",
      "execution_count": 15,
      "metadata": {
        "id": "gGHGio0bhvTf"
      },
      "outputs": [
        {
          "name": "stdout",
          "output_type": "stream",
          "text": [
            "Jeff has 55 mercedes(s).\n",
            "Samuel has 24 porshe(s).\n",
            "Donnah has 30 hyundai(s).\n"
          ]
        }
      ],
      "source": [
        "# Challenge 2\n",
        "# Modify the code below to print out number of cars each of the billionares has \n",
        "# \n",
        "\n",
        "# Creating our lists\n",
        "# PROBLEMATIC CODE\n",
        "#billionares = ['Jeff','Samuel','Donnah']       \n",
        "#cars = ['mercedes','porshe','hyundai'] \n",
        "#numbers = [55, 24, 30]\n",
        "\n",
        "#for car in names:                       \n",
        "#  for names in cars:                       \n",
        "#    OUR CODE GOES HERE             \n",
        "#      print(name+\" has \"+str(number) OUR CODE GOES HERE)\n",
        "    \n",
        "# Creating our lists\n",
        "#billionares = ['Jeff', 'Samuel', 'Donnah']       \n",
        "#cars = ['mercedes', 'porshe', 'hyundai'] \n",
        "#numbers = [55, 24, 30]\n",
        "\n",
        "# CORRECT CODE\n",
        "\n",
        "# Creating our lists\n",
        "billionares = ['Jeff','Samuel','Donnah']       \n",
        "cars = ['mercedes','porshe','hyundai'] \n",
        "numbers = [55, 24, 30]\n",
        "\n",
        "# Iterating through the lists\n",
        "for i in range(len(billionares)):                       \n",
        "    name = billionares[i]\n",
        "    car = cars[i]\n",
        "    number = numbers[i]\n",
        "    print(name + \" has \" + str(number) + \" \" + car + \"(s).\")"
      ]
    },
    {
      "cell_type": "code",
      "execution_count": 8,
      "metadata": {
        "id": "wgW0ppZ_WtVw"
      },
      "outputs": [
        {
          "name": "stdout",
          "output_type": "stream",
          "text": [
            "{'Paul': 16, 'Mary': 33, 'Fineas': 100, 'Grace': 45, 'Tamar': 60}\n",
            "Paul : 16\n",
            "Mary : 33\n",
            "Fineas : 100\n",
            "Grace : 45\n",
            "Tamar : 60\n"
          ]
        }
      ],
      "source": [
        "# Challenge 3\n",
        "# Come up with of a question you can ask your friends. \n",
        "# Create a dictionary where each key is a person's name, \n",
        "# and each value is that person's response to your question.\n",
        "# Store more three thn responses in your dictionary \n",
        "# and use a for loop to print out each person's response\n",
        "#\n",
        "\n",
        "i = 0\n",
        "new_dict = {}\n",
        "\n",
        "while True:\n",
        "    name = input(\"What is your name? \")\n",
        "    if name == 'done':\n",
        "        break\n",
        "    age = int(input(\"What is your age? \"))\n",
        "    key = name\n",
        "    new_dict[name] = age\n",
        "    i += 1\n",
        "    \n",
        "print(new_dict)\n",
        "\n",
        "for k,v in new_dict.items():\n",
        "    print(k, \":\", v)"
      ]
    }
  ],
  "metadata": {
    "colab": {
      "collapsed_sections": [
        "i2g_QFDd8RuT",
        "IRmR3mRBebVj",
        "o2l2ojIRIXs9",
        "aoHtqtjuabCr",
        "bJSuEO5NKzC6",
        "riie22W5fAPp",
        "c13xlVleK8Dd",
        "-WNVdamRfNnp",
        "m-WluVZoLBie",
        "NRUCsmwqfo0J",
        "pt06jAbBLK7j",
        "1ChnVcJNhUmi",
        "ACouIUA4LUqe",
        "enm2AB_bhl6P"
      ],
      "provenance": [],
      "toc_visible": true
    },
    "kernelspec": {
      "display_name": "Python 3",
      "name": "python3"
    },
    "language_info": {
      "codemirror_mode": {
        "name": "ipython",
        "version": 3
      },
      "file_extension": ".py",
      "mimetype": "text/x-python",
      "name": "python",
      "nbconvert_exporter": "python",
      "pygments_lexer": "ipython3",
      "version": "3.9.12"
    }
  },
  "nbformat": 4,
  "nbformat_minor": 0
}
